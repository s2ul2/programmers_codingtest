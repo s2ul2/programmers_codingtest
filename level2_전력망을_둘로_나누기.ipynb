{
  "nbformat": 4,
  "nbformat_minor": 0,
  "metadata": {
    "colab": {
      "provenance": [],
      "authorship_tag": "ABX9TyOH2v66NDCEHtSSWH+lhHrb",
      "include_colab_link": true
    },
    "kernelspec": {
      "name": "python3",
      "display_name": "Python 3"
    },
    "language_info": {
      "name": "python"
    }
  },
  "cells": [
    {
      "cell_type": "markdown",
      "metadata": {
        "id": "view-in-github",
        "colab_type": "text"
      },
      "source": [
        "<a href=\"https://colab.research.google.com/github/s2ul2/programmers_codingtest/blob/main/level2_%EC%A0%84%EB%A0%A5%EB%A7%9D%EC%9D%84_%EB%91%98%EB%A1%9C_%EB%82%98%EB%88%84%EA%B8%B0.ipynb\" target=\"_parent\"><img src=\"https://colab.research.google.com/assets/colab-badge.svg\" alt=\"Open In Colab\"/></a>"
      ]
    },
    {
      "cell_type": "markdown",
      "source": [
        "# 나의풀이 (1시간 넘음)"
      ],
      "metadata": {
        "id": "RKRa07d8lXzB"
      }
    },
    {
      "cell_type": "code",
      "source": [
        "from collections import deque\n",
        "\n",
        "def bfs(graph, start, visited):\n",
        "    # 큐(Queue) 구현을 위해 deque 라이브러리 사용\n",
        "    queue = deque([start])\n",
        "    # 현재 노드를 방문 처리\n",
        "    visited[start] = True\n",
        "    cnt = 0\n",
        "    # 큐가 빌 때까지 반복\n",
        "    while queue:\n",
        "        # 큐에서 하나의 원소를 뽑아 출력\n",
        "        v = queue.popleft()\n",
        "        #print(v, end=' ')\n",
        "        cnt += 1\n",
        "        # 해당 원소와 연결된, 아직 방문하지 않은 원소들을 큐에 삽입\n",
        "        for i in graph[v]:\n",
        "            if not visited[i]:\n",
        "                queue.append(i)\n",
        "                visited[i] = True\n",
        "    return cnt\n",
        "\n",
        "\n",
        "def solution(n, wires):\n",
        "    answer = n - 2 #  두 전력망이 갖게 되는 송전탑의 개수 차이의 절댓값 중 최댓값 (만약 n이 9일때 최대 절댓값은 두 전력망이 1과 8일때 즉 7이된다.)\n",
        "    for i in range(len(wires)):\n",
        "        tmps = wires.copy()\n",
        "        graph = [[] for i in range(n+1)]\n",
        "        visited = [False] * (n+1)\n",
        "        tmps.pop(i) # i번째 전선 제거\n",
        "        for wire in tmps:\n",
        "            x, y = wire\n",
        "            graph[x].append(y)\n",
        "            graph[y].append(x)\n",
        "        for idx,g in enumerate(graph):\n",
        "            if g != []: # n개의 송전탑 중 다른 송전탑과 연결된 송전탑을 시작점으로 지정\n",
        "                start = idx\n",
        "                break\n",
        "        cnts = bfs(graph, start, visited) # bfs를 이용하여 시작점에서 다른 송전탑 탐색함. 이때 탐색 가능한 송전탑 개수를 cnts에 담음(이는 즉 연결된 송전탑의 개수임)\n",
        "        other_cnts = n - cnts # 전력망을 둘로 나눌 때 첫번째 전력망 개수는 cnts이므로 나머지 전력망 개수는 n - cnts로 구한다.\n",
        "        if abs(cnts - other_cnts) < answer:\n",
        "            answer = abs(cnts - other_cnts)\n",
        "    return answer"
      ],
      "metadata": {
        "id": "1ugw16cUPBJo"
      },
      "execution_count": null,
      "outputs": []
    },
    {
      "cell_type": "markdown",
      "source": [
        "# 다른사람 풀이"
      ],
      "metadata": {
        "id": "By__5FyWmvcw"
      }
    },
    {
      "cell_type": "code",
      "source": [
        "def solution(n, wires):\n",
        "    ans = n\n",
        "    for sub in (wires[i+1:] + wires[:i] for i in range(len(wires))):\n",
        "        s = set(sub[0])\n",
        "        [s.update(v) for _ in sub for v in sub if set(v) & s]  # 집합연산자 & : 교집합 연산,   집합연산자 update : 여러데이터를 한번에 추가\n",
        "        ans = min(ans, abs(2 * len(s) - n))\n",
        "    return ans"
      ],
      "metadata": {
        "id": "rNq49WEUmwTU"
      },
      "execution_count": null,
      "outputs": []
    },
    {
      "cell_type": "code",
      "source": [
        "i = 2\n",
        "wires = [[1,3],[2,3],[3,4],[4,5],[4,6],[4,7],[7,8],[7,9]]\n",
        "sub = wires[i+1:] + wires[:i]\n",
        "sub"
      ],
      "metadata": {
        "colab": {
          "base_uri": "https://localhost:8080/"
        },
        "id": "4YmQoCS5ofPY",
        "outputId": "08afe7c4-2977-41e5-a4b7-e441cc421062"
      },
      "execution_count": 17,
      "outputs": [
        {
          "output_type": "execute_result",
          "data": {
            "text/plain": [
              "[[4, 5], [4, 6], [4, 7], [7, 8], [7, 9], [1, 3], [2, 3]]"
            ]
          },
          "metadata": {},
          "execution_count": 17
        }
      ]
    },
    {
      "cell_type": "code",
      "source": [
        "s = set(sub[0])\n",
        "print(s)\n",
        "for _ in sub:\n",
        "    print('----------------------------------------')\n",
        "    for v in sub:\n",
        "        print(v)\n",
        "        if set(v) & s:\n",
        "            s.update(v) \n",
        "            print('업뎃 : ' + str(s))\n",
        "list(s)"
      ],
      "metadata": {
        "colab": {
          "base_uri": "https://localhost:8080/"
        },
        "id": "_8aCD82OofUH",
        "outputId": "4440ae73-c2cc-449a-e177-8e3ee04d26c0"
      },
      "execution_count": 18,
      "outputs": [
        {
          "output_type": "stream",
          "name": "stdout",
          "text": [
            "{4, 5}\n",
            "----------------------------------------\n",
            "[4, 5]\n",
            "업뎃 : {4, 5}\n",
            "[4, 6]\n",
            "업뎃 : {4, 5, 6}\n",
            "[4, 7]\n",
            "업뎃 : {4, 5, 6, 7}\n",
            "[7, 8]\n",
            "업뎃 : {4, 5, 6, 7, 8}\n",
            "[7, 9]\n",
            "업뎃 : {4, 5, 6, 7, 8, 9}\n",
            "[1, 3]\n",
            "[2, 3]\n",
            "----------------------------------------\n",
            "[4, 5]\n",
            "업뎃 : {4, 5, 6, 7, 8, 9}\n",
            "[4, 6]\n",
            "업뎃 : {4, 5, 6, 7, 8, 9}\n",
            "[4, 7]\n",
            "업뎃 : {4, 5, 6, 7, 8, 9}\n",
            "[7, 8]\n",
            "업뎃 : {4, 5, 6, 7, 8, 9}\n",
            "[7, 9]\n",
            "업뎃 : {4, 5, 6, 7, 8, 9}\n",
            "[1, 3]\n",
            "[2, 3]\n",
            "----------------------------------------\n",
            "[4, 5]\n",
            "업뎃 : {4, 5, 6, 7, 8, 9}\n",
            "[4, 6]\n",
            "업뎃 : {4, 5, 6, 7, 8, 9}\n",
            "[4, 7]\n",
            "업뎃 : {4, 5, 6, 7, 8, 9}\n",
            "[7, 8]\n",
            "업뎃 : {4, 5, 6, 7, 8, 9}\n",
            "[7, 9]\n",
            "업뎃 : {4, 5, 6, 7, 8, 9}\n",
            "[1, 3]\n",
            "[2, 3]\n",
            "----------------------------------------\n",
            "[4, 5]\n",
            "업뎃 : {4, 5, 6, 7, 8, 9}\n",
            "[4, 6]\n",
            "업뎃 : {4, 5, 6, 7, 8, 9}\n",
            "[4, 7]\n",
            "업뎃 : {4, 5, 6, 7, 8, 9}\n",
            "[7, 8]\n",
            "업뎃 : {4, 5, 6, 7, 8, 9}\n",
            "[7, 9]\n",
            "업뎃 : {4, 5, 6, 7, 8, 9}\n",
            "[1, 3]\n",
            "[2, 3]\n",
            "----------------------------------------\n",
            "[4, 5]\n",
            "업뎃 : {4, 5, 6, 7, 8, 9}\n",
            "[4, 6]\n",
            "업뎃 : {4, 5, 6, 7, 8, 9}\n",
            "[4, 7]\n",
            "업뎃 : {4, 5, 6, 7, 8, 9}\n",
            "[7, 8]\n",
            "업뎃 : {4, 5, 6, 7, 8, 9}\n",
            "[7, 9]\n",
            "업뎃 : {4, 5, 6, 7, 8, 9}\n",
            "[1, 3]\n",
            "[2, 3]\n",
            "----------------------------------------\n",
            "[4, 5]\n",
            "업뎃 : {4, 5, 6, 7, 8, 9}\n",
            "[4, 6]\n",
            "업뎃 : {4, 5, 6, 7, 8, 9}\n",
            "[4, 7]\n",
            "업뎃 : {4, 5, 6, 7, 8, 9}\n",
            "[7, 8]\n",
            "업뎃 : {4, 5, 6, 7, 8, 9}\n",
            "[7, 9]\n",
            "업뎃 : {4, 5, 6, 7, 8, 9}\n",
            "[1, 3]\n",
            "[2, 3]\n",
            "----------------------------------------\n",
            "[4, 5]\n",
            "업뎃 : {4, 5, 6, 7, 8, 9}\n",
            "[4, 6]\n",
            "업뎃 : {4, 5, 6, 7, 8, 9}\n",
            "[4, 7]\n",
            "업뎃 : {4, 5, 6, 7, 8, 9}\n",
            "[7, 8]\n",
            "업뎃 : {4, 5, 6, 7, 8, 9}\n",
            "[7, 9]\n",
            "업뎃 : {4, 5, 6, 7, 8, 9}\n",
            "[1, 3]\n",
            "[2, 3]\n"
          ]
        },
        {
          "output_type": "execute_result",
          "data": {
            "text/plain": [
              "[4, 5, 6, 7, 8, 9]"
            ]
          },
          "metadata": {},
          "execution_count": 18
        }
      ]
    },
    {
      "cell_type": "markdown",
      "source": [
        "## for ~ if 문"
      ],
      "metadata": {
        "id": "nURD6G0WqIoq"
      }
    },
    {
      "cell_type": "code",
      "source": [
        "list_a = list(range(10))\n",
        "list_b = []\n",
        "for i in list_a:\n",
        "    if i > 5:\n",
        "        list_b.append(i)"
      ],
      "metadata": {
        "id": "TVU0t7cqqH68"
      },
      "execution_count": 9,
      "outputs": []
    },
    {
      "cell_type": "code",
      "source": [
        "list_b = [i for i in list_a if i > 5]"
      ],
      "metadata": {
        "id": "vahcBnFppKwo"
      },
      "execution_count": 10,
      "outputs": []
    }
  ]
}