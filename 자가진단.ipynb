{
  "nbformat": 4,
  "nbformat_minor": 0,
  "metadata": {
    "colab": {
      "name": "자가진단.ipynb",
      "provenance": [],
      "collapsed_sections": [],
      "authorship_tag": "ABX9TyNcaC05FxItr2zulOMHWRQ2",
      "include_colab_link": true
    },
    "kernelspec": {
      "name": "python3",
      "display_name": "Python 3"
    },
    "language_info": {
      "name": "python"
    },
    "gpuClass": "standard"
  },
  "cells": [
    {
      "cell_type": "markdown",
      "metadata": {
        "id": "view-in-github",
        "colab_type": "text"
      },
      "source": [
        "<a href=\"https://colab.research.google.com/github/s2ul2/programmers_codingtest/blob/main/%EC%9E%90%EA%B0%80%EC%A7%84%EB%8B%A8.ipynb\" target=\"_parent\"><img src=\"https://colab.research.google.com/assets/colab-badge.svg\" alt=\"Open In Colab\"/></a>"
      ]
    },
    {
      "cell_type": "markdown",
      "source": [
        "# 4기 자가진단"
      ],
      "metadata": {
        "id": "hXB5E5f9ppQN"
      }
    },
    {
      "cell_type": "markdown",
      "source": [
        "## 행렬의 덧셈 : 100점(4분40초)"
      ],
      "metadata": {
        "id": "ebm0qqu_prKp"
      }
    },
    {
      "cell_type": "code",
      "source": [
        "def solution(arr1, arr2):\n",
        "    answer = []\n",
        "    for a_row, b_row in zip(arr1, arr2):\n",
        "        temp = []\n",
        "        for a, b in zip(a_row, b_row): # a_row : [1, 2], b_row : [3, 4]\n",
        "            temp.append(a+b)\n",
        "        answer.append(temp)\n",
        "    return answer"
      ],
      "metadata": {
        "id": "NdeydgxSkW1j"
      },
      "execution_count": null,
      "outputs": []
    },
    {
      "cell_type": "markdown",
      "source": [
        "## 카펫 : 100점 (15분)"
      ],
      "metadata": {
        "id": "tr8ERdUspxa9"
      }
    },
    {
      "cell_type": "code",
      "source": [
        "def solution(brown, yellow):\n",
        "    answer = []\n",
        "\n",
        "    for b in range(1, int(yellow ** 0.5)+1): \n",
        "        if yellow % b == 0:\n",
        "            a = yellow // b     # a : 가로, b : 세로\n",
        "            if (a+2) * 2 + b * 2 == brown:\n",
        "                return [a+2, b+2]\n",
        "\n",
        "\n",
        "\n",
        "# yellow : 4, brown : 14\n",
        "#     1 1 1 1 1 1 \n",
        "#     1 0 0 0 0 1\n",
        "#     1 1 1 1 1 1\n",
        "\n",
        "#     1 1 1 1 \n",
        "#     1 0 0 1\n",
        "#     1 0 0 1\n",
        "#     1 1 1 1\n",
        "# a >= b\n",
        "# 가로 : a    a*b = yellow의 개수\n",
        "# 세로 : b\n",
        "# (a+2) * 2 + b * 2 = brown 개수\n",
        "# return [a+2, b+2]\n",
        "\n",
        "\n",
        "    return answer"
      ],
      "metadata": {
        "id": "XlKTdk7dkWwt"
      },
      "execution_count": null,
      "outputs": []
    },
    {
      "cell_type": "markdown",
      "source": [
        "## 이중우선순위큐 : 100점(12분)"
      ],
      "metadata": {
        "id": "a8BXssbaxreL"
      }
    },
    {
      "cell_type": "code",
      "source": [
        "def solution(operations):\n",
        "    answer = []\n",
        "    for op in operations:\n",
        "        if op[0] == 'I':\n",
        "            answer.append(int(op.split(' ')[1])) # 숫자 넣기\n",
        "        elif (op == 'D 1') and answer != []: # 최댓값 삭제\n",
        "            max_num = max(answer)\n",
        "            answer.remove(max_num)\n",
        "        elif (op == 'D -1') and answer != []: # 최솟값 삭제\n",
        "            min_num = min(answer)\n",
        "            answer.remove(min_num)\n",
        "    if answer == []: # 비어있다면\n",
        "        return [0, 0]\n",
        "    else:\n",
        "        return [max(answer), min(answer)]\n",
        "\n",
        "    return answer"
      ],
      "metadata": {
        "id": "1wNgMrp_kWsm"
      },
      "execution_count": null,
      "outputs": []
    },
    {
      "cell_type": "markdown",
      "source": [
        "# 3기 자가진단"
      ],
      "metadata": {
        "id": "Wqarknv1xxF1"
      }
    },
    {
      "cell_type": "code",
      "execution_count": 1,
      "metadata": {
        "id": "BU_Y8JPLahGl"
      },
      "outputs": [],
      "source": [
        "# 3기\n",
        "def is_palindrome(s):\n",
        "    if s == s[::-1]:\n",
        "        return 1\n",
        "    else:\n",
        "        return -1\n",
        "\n"
      ]
    },
    {
      "cell_type": "code",
      "source": [
        ""
      ],
      "metadata": {
        "id": "XfejSBFObmV_"
      },
      "execution_count": null,
      "outputs": []
    }
  ]
}