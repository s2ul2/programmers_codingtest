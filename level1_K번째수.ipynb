{
  "nbformat": 4,
  "nbformat_minor": 0,
  "metadata": {
    "colab": {
      "name": "level1_K번째수.ipynb",
      "provenance": [],
      "collapsed_sections": [],
      "authorship_tag": "ABX9TyN8mA4uhKEml2KpPKb39uZR",
      "include_colab_link": true
    },
    "kernelspec": {
      "name": "python3",
      "display_name": "Python 3"
    },
    "language_info": {
      "name": "python"
    },
    "gpuClass": "standard"
  },
  "cells": [
    {
      "cell_type": "markdown",
      "metadata": {
        "id": "view-in-github",
        "colab_type": "text"
      },
      "source": [
        "<a href=\"https://colab.research.google.com/github/s2ul2/programmers_codingtest/blob/main/level1_K%EB%B2%88%EC%A7%B8%EC%88%98.ipynb\" target=\"_parent\"><img src=\"https://colab.research.google.com/assets/colab-badge.svg\" alt=\"Open In Colab\"/></a>"
      ]
    },
    {
      "cell_type": "markdown",
      "source": [
        "# 나의 풀이: 100점(8분 20초)"
      ],
      "metadata": {
        "id": "QGI59cnzfDEJ"
      }
    },
    {
      "cell_type": "code",
      "execution_count": 4,
      "metadata": {
        "id": "XaCT-YqDe-EC"
      },
      "outputs": [],
      "source": [
        "def solution(array, commands):\n",
        "    answer = []\n",
        "    for com in commands:\n",
        "        slice_lst = array[com[0]-1:com[1]]\n",
        "        slice_lst.sort()\n",
        "        answer.append(slice_lst[com[2]-1])\n",
        "    return answer\n"
      ]
    },
    {
      "cell_type": "markdown",
      "source": [
        "# 다른사람 풀이:"
      ],
      "metadata": {
        "id": "cJ-9juBNfEie"
      }
    },
    {
      "cell_type": "code",
      "source": [
        "def solution(array, commands):\n",
        "    return list(map(lambda x:sorted(array[x[0]-1:x[1]])[x[2]-1], commands))"
      ],
      "metadata": {
        "id": "JgZQfHrFfF-J"
      },
      "execution_count": null,
      "outputs": []
    },
    {
      "cell_type": "markdown",
      "source": [
        "## map(function, iterable)\n",
        "\n",
        "첫 번째 매개변수 : 함수\n",
        "\n",
        "두 번째 매개변수 : 반복 가능한 자료형(리스트, 튜플 등)\n",
        "\n",
        "* 두 번째 인자로 들어온 반복 가능한 자료형 (리스트나 튜플)을 첫 번째 인자로 들어온 함수에 하나씩 집어넣어서 함수를 수행하는 함수 -> 결과를 list로 반환하고 싶다면 겉에 list를 씌어준다.\n"
      ],
      "metadata": {
        "id": "TIzy-6V2oO_h"
      }
    },
    {
      "cell_type": "code",
      "source": [
        "# 리스트에 값을 하나씩 더해서 새로운 리스트를 만드는 작업\n",
        "myList = [1, 2, 3, 4, 5]\n",
        "\n",
        "# map 함수 이용\n",
        "def add_one(n):\n",
        "    return n + 1\n",
        "\n",
        "result2 = list(map(add_one, myList))  # map반환을 list 로 변환\n",
        "print(f'result2 : {result2}')"
      ],
      "metadata": {
        "id": "tIR_E0wpfGCP"
      },
      "execution_count": null,
      "outputs": []
    },
    {
      "cell_type": "markdown",
      "source": [
        "## lambda 매게변수 : return 식"
      ],
      "metadata": {
        "id": "2JtVrVfupXqA"
      }
    }
  ]
}