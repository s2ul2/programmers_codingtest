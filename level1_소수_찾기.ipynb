{
  "nbformat": 4,
  "nbformat_minor": 0,
  "metadata": {
    "colab": {
      "name": "level1_소수 찾기.ipynb",
      "provenance": [],
      "authorship_tag": "ABX9TyOQpUm5lKfBYQ7Ppy8DYRHw",
      "include_colab_link": true
    },
    "kernelspec": {
      "name": "python3",
      "display_name": "Python 3"
    },
    "language_info": {
      "name": "python"
    },
    "gpuClass": "standard"
  },
  "cells": [
    {
      "cell_type": "markdown",
      "metadata": {
        "id": "view-in-github",
        "colab_type": "text"
      },
      "source": [
        "<a href=\"https://colab.research.google.com/github/s2ul2/programmers_codingtest/blob/main/level1_%EC%86%8C%EC%88%98_%EC%B0%BE%EA%B8%B0.ipynb\" target=\"_parent\"><img src=\"https://colab.research.google.com/assets/colab-badge.svg\" alt=\"Open In Colab\"/></a>"
      ]
    },
    {
      "cell_type": "markdown",
      "source": [
        "# 나의 풀이 : 100점 (5분)"
      ],
      "metadata": {
        "id": "cUGcETBLoFtu"
      }
    },
    {
      "cell_type": "code",
      "execution_count": null,
      "metadata": {
        "id": "XKsexoTgoBkE"
      },
      "outputs": [],
      "source": [
        "def solution(n):\n",
        "    cnt = 0\n",
        "    for num in range(2, n+1):\n",
        "        isprime = 1\n",
        "        for i in range(2, int(num ** 0.5) + 1):\n",
        "            if num % i == 0: # 나누 떨어지면 소수 X\n",
        "                isprime = 0\n",
        "                break\n",
        "        if isprime == 1:\n",
        "            cnt += 1\n",
        "    return cnt"
      ]
    },
    {
      "cell_type": "markdown",
      "source": [
        "# 다른사람 풀이"
      ],
      "metadata": {
        "id": "UMo8L-buoIO9"
      }
    },
    {
      "cell_type": "code",
      "source": [
        "def solution(n):\n",
        "    num=set(range(2,n+1))\n",
        "\n",
        "    for i in range(2,int(n**0.5) + 1):\n",
        "        if i in num:\n",
        "            num-=set(range(2*i,n+1,i))\n",
        "    return len(num)"
      ],
      "metadata": {
        "id": "iCx6c4OyoI-k"
      },
      "execution_count": null,
      "outputs": []
    },
    {
      "cell_type": "markdown",
      "source": [
        "- 범위내에서 구하는 경우 : \n",
        "에라토스테네스의 체 : 범위에서 합성수를 지우는 방식으로 소수를 찾는 방법. \n",
        "1. 1은 제거 \n",
        "2. 지워지지 않은 수 중 제일 작은 2를 소수로 채택하고, 나머지 2의 배수를 모두 지운다. \n",
        "3. 지워지지 않은 수 중 제일 작은 3을 소수로 채택하고, 나머지 3의 배수를 모두 지운다. \n",
        "4. 지워지지 않은 수 중 제일 작은 5를 소수로 채택하고, 나머지 5의 배수를 모두 지운다. \n",
        "5. (반복)\n"
      ],
      "metadata": {
        "id": "PayzGBd4qs_k"
      }
    }
  ]
}