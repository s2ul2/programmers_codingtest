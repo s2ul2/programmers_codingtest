{
  "nbformat": 4,
  "nbformat_minor": 0,
  "metadata": {
    "colab": {
      "name": "level1_실패율.ipynb",
      "provenance": [],
      "collapsed_sections": [],
      "authorship_tag": "ABX9TyP0tQqvD9T6arof/9TrhZfq",
      "include_colab_link": true
    },
    "kernelspec": {
      "name": "python3",
      "display_name": "Python 3"
    },
    "language_info": {
      "name": "python"
    },
    "gpuClass": "standard"
  },
  "cells": [
    {
      "cell_type": "markdown",
      "metadata": {
        "id": "view-in-github",
        "colab_type": "text"
      },
      "source": [
        "<a href=\"https://colab.research.google.com/github/s2ul2/programmers_codingtest/blob/main/level1_%EC%8B%A4%ED%8C%A8%EC%9C%A8.ipynb\" target=\"_parent\"><img src=\"https://colab.research.google.com/assets/colab-badge.svg\" alt=\"Open In Colab\"/></a>"
      ]
    },
    {
      "cell_type": "markdown",
      "source": [
        "# 나의풀이 : 100점(50분, 도움받음)"
      ],
      "metadata": {
        "id": "9THMc6N_jeE7"
      }
    },
    {
      "cell_type": "code",
      "execution_count": null,
      "metadata": {
        "id": "u6jCfFohqen-"
      },
      "outputs": [],
      "source": [
        "def solution(N, stages):\n",
        "    answer = []\n",
        "    fail_rate_lst = []\n",
        "    for stage in range(1, N+1): # 몇번째 stage인지\n",
        "        total = 0\n",
        "        for i in stages:\n",
        "            if i >= stage:\n",
        "                total += 1 # total : stage단계 도전자 수\n",
        "        fail_cnt = stages.count(stage) # fail_cnt : stage단계 실패자 수\n",
        "        print(fail_cnt, total)\n",
        "        if total == 0: # 도전자 수가 0명인 경우 -> 해당 stage의 fail_rate은 0\n",
        "            fail_rate_lst.append(0)\n",
        "        else:\n",
        "            fail_rate_lst.append(fail_cnt / total)    \n",
        "    answer= sorted(range(len(fail_rate_lst), 0, -1), key=lambda k: fail_rate_lst[k-1])[::-1]\n",
        "    return answer"
      ]
    },
    {
      "cell_type": "markdown",
      "source": [
        "# 다른사람 풀이"
      ],
      "metadata": {
        "id": "ndiua3gSjjUy"
      }
    },
    {
      "cell_type": "code",
      "source": [
        "def solution(N, stages):\n",
        "    result = {}\n",
        "    denominator = len(stages) # 도전자수\n",
        "    for stage in range(1, N+1):\n",
        "        if denominator != 0:\n",
        "            count = stages.count(stage)\n",
        "            result[stage] = count / denominator\n",
        "            denominator -= count\n",
        "        else:\n",
        "            result[stage] = 0\n",
        "    return sorted(result, key=lambda x : result[x], reverse=True)"
      ],
      "metadata": {
        "id": "Svp2QotkjlAu"
      },
      "execution_count": null,
      "outputs": []
    },
    {
      "cell_type": "markdown",
      "source": [
        "*  result는 dictionary이므로 sorted에 result를 그냥 넘기면 result의 keys가 들어갑니다. keys는 생략이 가능합니다. 거기에 lambda는 기준을 result[x]: 즉 value로 정렬한다는 뜻입니다. 그래서 key가 출력되게 됩니다.\n",
        "* 도전자 수를 count를 빼서 계산할 수도 있네..!!\n"
      ],
      "metadata": {
        "id": "WDJ1XOmLlUTT"
      }
    }
  ]
}