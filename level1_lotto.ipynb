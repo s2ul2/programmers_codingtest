{
  "nbformat": 4,
  "nbformat_minor": 0,
  "metadata": {
    "colab": {
      "name": "level1_lotto.ipynb",
      "provenance": [],
      "collapsed_sections": [],
      "authorship_tag": "ABX9TyNCYpbZCoSyIWV94GXPwQ3i",
      "include_colab_link": true
    },
    "kernelspec": {
      "name": "python3",
      "display_name": "Python 3"
    },
    "language_info": {
      "name": "python"
    },
    "gpuClass": "standard"
  },
  "cells": [
    {
      "cell_type": "markdown",
      "metadata": {
        "id": "view-in-github",
        "colab_type": "text"
      },
      "source": [
        "<a href=\"https://colab.research.google.com/github/s2ul2/programmers_codingtest/blob/main/level1_lotto.ipynb\" target=\"_parent\"><img src=\"https://colab.research.google.com/assets/colab-badge.svg\" alt=\"Open In Colab\"/></a>"
      ]
    },
    {
      "cell_type": "markdown",
      "source": [
        "# 내 풀이 (100점)"
      ],
      "metadata": {
        "id": "D2ll67lDaiVc"
      }
    },
    {
      "cell_type": "code",
      "execution_count": 3,
      "metadata": {
        "id": "ccLBdgBxHz3S"
      },
      "outputs": [],
      "source": [
        "def solution(lottos, win_nums):\n",
        "\n",
        "    min_count = 0 # 로또 번호와 일치하는 숫자 개수의 최소\n",
        "    max_count = 0 # 로또 번호와 일치하는 숫자 개수의 최대\n",
        "    zero_count = 0 # 0개수 세기\n",
        "    min_rank = 0\n",
        "    max_rank = 0\n",
        "    \n",
        "    for num in lottos: \n",
        "        if num == 0:\n",
        "            zero_count += 1 # 0개수 1 증가\n",
        "            continue\n",
        "        if num in win_nums:\n",
        "            min_count += 1 # 0을 제외하고 로또 번호와 일치하면 min_count 1 증가\n",
        "    # 최저 순위 구하기\n",
        "    min_rank = 7 - min_count # 최저 순위 구하는 법 : 7 - 일치하는 번호 개수\n",
        "    if min_rank == 7: # 일치하는 번호 개수가 0개인 경우도 6등이므로 6으로 바꿔준다.\n",
        "        min_rank = 6\n",
        "    \n",
        "    # 최고 순위 구하기 (0이 모두 로또 당첨번호인 경우)\n",
        "    max_count = min_count + zero_count\n",
        "    max_rank = 7 - max_count\n",
        "    if max_rank == 7: # 0은 없고(zero_count = 0) 일치하는 숫자개수가 0개인 경우(min_count = 0)\n",
        "        max_rank = 6 # 일치하는 번호 개수가 0개인 경우도 6등이므로 6으로 바꿔준다.\n",
        "    \n",
        "    answer = [max_rank, min_rank]\n",
        "    \n",
        "    return answer"
      ]
    },
    {
      "cell_type": "markdown",
      "source": [
        "0이 2개인 경우\n",
        "0을 제외하고 일치하는 수 : 1, 31 -> 2개 일치 -> 최소 5등\n",
        "0이 모두 로또 당첨번호인 경우 : 2 + 2 = 4개 일치 -> 최대 3등\n",
        "\n",
        "0이 6개인 경우\n",
        "0을 제외하고 일치하는 수 : 0개 -> 최소 6등\n",
        "0이 모두 로또 당첨번호인 경우 : 0 + 6 = 6개 일치 -> 최대 1등\n",
        "\n",
        "0이 0개인 경우\n",
        "0을 제외하고 일치하는 수 : 6개 -> 최소 1등\n",
        "0이 모두 로또 당첨번호인 경우 : 6 + 0 = 6개 일치 -> 최대 1등"
      ],
      "metadata": {
        "id": "Av87Y9fPa2h2"
      }
    },
    {
      "cell_type": "markdown",
      "source": [
        "# 다른 사람 풀이"
      ],
      "metadata": {
        "id": "KQU8MgXWapYR"
      }
    },
    {
      "cell_type": "code",
      "source": [
        "def solution(lottos, win_nums):\n",
        "\n",
        "    rank=[6,6,5,4,3,2,1]\n",
        "\n",
        "    cnt_0 = lottos.count(0)\n",
        "    ans = 0\n",
        "    for x in win_nums:\n",
        "        if x in lottos:\n",
        "            ans += 1\n",
        "    return rank[cnt_0 + ans],rank[ans]"
      ],
      "metadata": {
        "id": "YeIO2WOZICR-"
      },
      "execution_count": null,
      "outputs": []
    },
    {
      "cell_type": "markdown",
      "source": [
        "리스트 내 특정 원소의 개수를 셀 때 count 함수를 쓰자!!!"
      ],
      "metadata": {
        "id": "yABbZHc_bxFG"
      }
    }
  ]
}