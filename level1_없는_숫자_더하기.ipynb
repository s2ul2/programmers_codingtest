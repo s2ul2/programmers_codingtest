{
  "nbformat": 4,
  "nbformat_minor": 0,
  "metadata": {
    "colab": {
      "name": "level1_없는 숫자 더하기.ipynb",
      "provenance": [],
      "authorship_tag": "ABX9TyMoyCjwvSKliItROoyVJ+Zj",
      "include_colab_link": true
    },
    "kernelspec": {
      "name": "python3",
      "display_name": "Python 3"
    },
    "language_info": {
      "name": "python"
    },
    "gpuClass": "standard"
  },
  "cells": [
    {
      "cell_type": "markdown",
      "metadata": {
        "id": "view-in-github",
        "colab_type": "text"
      },
      "source": [
        "<a href=\"https://colab.research.google.com/github/s2ul2/programmers_codingtest/blob/main/level1_%EC%97%86%EB%8A%94_%EC%88%AB%EC%9E%90_%EB%8D%94%ED%95%98%EA%B8%B0.ipynb\" target=\"_parent\"><img src=\"https://colab.research.google.com/assets/colab-badge.svg\" alt=\"Open In Colab\"/></a>"
      ]
    },
    {
      "cell_type": "markdown",
      "source": [
        "# 나의 풀이 (100점, 5분 30초)"
      ],
      "metadata": {
        "id": "KITBgkIDV0s9"
      }
    },
    {
      "cell_type": "code",
      "execution_count": null,
      "metadata": {
        "id": "URcZxj5fT1X8"
      },
      "outputs": [],
      "source": [
        "def solution(numbers):\n",
        "    answer = -1\n",
        "    sum_10_num = 0+1+2+3+4+5+6+7+8+9 # 10개 숫자 합\n",
        "    sum_num = 0\n",
        "    for num in numbers:\n",
        "        sum_num += num\n",
        "    answer = sum_10_num - sum_num # 10개 숫자합 - 리스트 내 숫자 합 = 리스트 내 존재하지 않은 숫자의 합\n",
        "    return answer"
      ]
    },
    {
      "cell_type": "markdown",
      "source": [
        "# 다른사람 풀이"
      ],
      "metadata": {
        "id": "RL0NDEigV6A0"
      }
    },
    {
      "cell_type": "code",
      "source": [
        "def solution(numbers):\n",
        "    answer=0\n",
        "    for i in range(1,10):\n",
        "        if i not in numbers:\n",
        "            answer += i\n",
        "    return answer"
      ],
      "metadata": {
        "id": "RxZ1sZNLV5Pz"
      },
      "execution_count": null,
      "outputs": []
    }
  ]
}