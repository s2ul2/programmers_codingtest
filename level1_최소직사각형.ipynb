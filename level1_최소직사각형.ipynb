{
  "nbformat": 4,
  "nbformat_minor": 0,
  "metadata": {
    "colab": {
      "provenance": [],
      "collapsed_sections": [],
      "authorship_tag": "ABX9TyPTp/c397hDEQ3YAtJKl4mG",
      "include_colab_link": true
    },
    "kernelspec": {
      "name": "python3",
      "display_name": "Python 3"
    },
    "language_info": {
      "name": "python"
    },
    "gpuClass": "standard"
  },
  "cells": [
    {
      "cell_type": "markdown",
      "metadata": {
        "id": "view-in-github",
        "colab_type": "text"
      },
      "source": [
        "<a href=\"https://colab.research.google.com/github/s2ul2/programmers_codingtest/blob/main/level1_%EC%B5%9C%EC%86%8C%EC%A7%81%EC%82%AC%EA%B0%81%ED%98%95.ipynb\" target=\"_parent\"><img src=\"https://colab.research.google.com/assets/colab-badge.svg\" alt=\"Open In Colab\"/></a>"
      ]
    },
    {
      "cell_type": "markdown",
      "source": [
        "# 나의 풀이 : 16분 6초"
      ],
      "metadata": {
        "id": "f89uIIATMmiy"
      }
    },
    {
      "cell_type": "code",
      "execution_count": null,
      "metadata": {
        "id": "epEGA_TNMc-j"
      },
      "outputs": [],
      "source": [
        "def solution(sizes):\n",
        "    big_lst = []\n",
        "    small_lst = []\n",
        "    for card in sizes:\n",
        "        big_lst.append(max(card))\n",
        "        small_lst.append(min(card))\n",
        "    return max(big_lst) * max(small_lst)"
      ]
    },
    {
      "cell_type": "markdown",
      "source": [
        "# 다른사람 풀이"
      ],
      "metadata": {
        "id": "L1acen9mMqer"
      }
    },
    {
      "cell_type": "code",
      "source": [
        "def solution(sizes):\n",
        "    return max(max(x) for x in sizes) * max(min(x) for x in sizes)\n"
      ],
      "metadata": {
        "id": "T7oVmkpDMqvl"
      },
      "execution_count": null,
      "outputs": []
    }
  ]
}