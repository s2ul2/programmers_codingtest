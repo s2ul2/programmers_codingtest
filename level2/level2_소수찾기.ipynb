{
  "nbformat": 4,
  "nbformat_minor": 0,
  "metadata": {
    "colab": {
      "name": "level2_소수찾기.ipynb",
      "provenance": [],
      "authorship_tag": "ABX9TyNIQ80F1d2bSL+RkyLsmE32",
      "include_colab_link": true
    },
    "kernelspec": {
      "name": "python3",
      "display_name": "Python 3"
    },
    "language_info": {
      "name": "python"
    },
    "gpuClass": "standard"
  },
  "cells": [
    {
      "cell_type": "markdown",
      "metadata": {
        "id": "view-in-github",
        "colab_type": "text"
      },
      "source": [
        "<a href=\"https://colab.research.google.com/github/s2ul2/programmers_codingtest/blob/main/level2_%EC%86%8C%EC%88%98%EC%B0%BE%EA%B8%B0.ipynb\" target=\"_parent\"><img src=\"https://colab.research.google.com/assets/colab-badge.svg\" alt=\"Open In Colab\"/></a>"
      ]
    },
    {
      "cell_type": "markdown",
      "source": [
        "# 나의 풀이 : 100점 (26분)"
      ],
      "metadata": {
        "id": "94-0sOo3QIDq"
      }
    },
    {
      "cell_type": "code",
      "execution_count": null,
      "metadata": {
        "id": "JrxoCBzWJsu5"
      },
      "outputs": [],
      "source": [
        "from itertools import permutations as pm\n",
        "def solution(numbers):\n",
        "    answer = 0\n",
        "    cnt = 0\n",
        "    new_numb_set = set()\n",
        "    for i in range(1, len(numbers) + 1): # 1부터 n까지\n",
        "        pm_numbs = pm(numbers, i)\n",
        "        for numb in pm_numbs: # 두번째 for문\n",
        "            new_numb = ''\n",
        "            # 새로운 숫자 생성\n",
        "            for i in numb:\n",
        "                new_numb += i\n",
        "            new_numb_set.add(int(new_numb))\n",
        "    print(new_numb_set)\n",
        "    # 소수 판별\n",
        "    for new_numb in new_numb_set:\n",
        "        isbreak = 0\n",
        "        for div in range(2, int(new_numb**0.5) + 1): # 세번째 for문\n",
        "            if new_numb % div == 0:\n",
        "                isbreak = 1\n",
        "                break \n",
        "        if isbreak == 0 and new_numb not in [0, 1]:\n",
        "            cnt += 1\n",
        "\n",
        "    return cnt"
      ]
    },
    {
      "cell_type": "markdown",
      "source": [
        "# 다른사람 풀이 "
      ],
      "metadata": {
        "id": "05BGsNN5QKz7"
      }
    },
    {
      "cell_type": "code",
      "source": [
        "from itertools import permutations\n",
        "def solution(n):\n",
        "    a = set()\n",
        "    for i in range(len(n)):\n",
        "        a |= set(map(int, map(\"\".join, permutations(list(n), i + 1)))) # 가능한 모든 숫자들을 set에 담기\n",
        "    a -= set(range(0, 2)) # 소수가 아닌 0, 1은 삭제\n",
        "    for i in range(2, int(max(a) ** 0.5) + 1): # 가장 큰 숫자 까지 범위로 하여 에라토스테네스 체 사용 \n",
        "        a -= set(range(i * 2, max(a) + 1, i))\n",
        "    return len(a)"
      ],
      "metadata": {
        "id": "3WvpuuzfQex0"
      },
      "execution_count": null,
      "outputs": []
    },
    {
      "cell_type": "code",
      "source": [
        "a = 'a5c2'\n",
        "list(a)"
      ],
      "metadata": {
        "colab": {
          "base_uri": "https://localhost:8080/"
        },
        "id": "5G2qkOaUJu_d",
        "outputId": "5d9da642-efc8-4f14-9a30-bbe1ea1b85c9"
      },
      "execution_count": 1,
      "outputs": [
        {
          "output_type": "execute_result",
          "data": {
            "text/plain": [
              "['a', '5', 'c', '2']"
            ]
          },
          "metadata": {},
          "execution_count": 1
        }
      ]
    },
    {
      "cell_type": "markdown",
      "source": [
        "* 문자열을 리스트로 바꾸고 싶을때 그냥 list로 감싸면 됨!!!"
      ],
      "metadata": {
        "id": "impq4APoQYrH"
      }
    },
    {
      "cell_type": "code",
      "source": [
        "a = {1, 2, 3, 4}\n",
        "a |= {5}\n",
        "a\n"
      ],
      "metadata": {
        "colab": {
          "base_uri": "https://localhost:8080/"
        },
        "id": "kTliEUM8JvDn",
        "outputId": "43190c36-3aa2-4ff3-b341-e117abc914ab"
      },
      "execution_count": 2,
      "outputs": [
        {
          "output_type": "execute_result",
          "data": {
            "text/plain": [
              "{1, 2, 3, 4, 5}"
            ]
          },
          "metadata": {},
          "execution_count": 2
        }
      ]
    },
    {
      "cell_type": "markdown",
      "source": [
        "|=은 현재 세트에 다른 세트를 더하며 update 메서드와 같습니다. \n",
        "\n",
        "다음은 세트 {1, 2, 3, 4}에 {5}를 더하므로 {1, 2, 3, 4, 5}가 나옵니다."
      ],
      "metadata": {
        "id": "stmA94XiRpFe"
      }
    },
    {
      "cell_type": "code",
      "source": [
        "from itertools import permutations\n",
        "n = '71'\n",
        "set(map(\"\".join, permutations(list(n), 2)))"
      ],
      "metadata": {
        "colab": {
          "base_uri": "https://localhost:8080/"
        },
        "id": "JU_g2vSMJvHj",
        "outputId": "79983b96-3814-4d84-fb54-7b76de98789f"
      },
      "execution_count": 6,
      "outputs": [
        {
          "output_type": "execute_result",
          "data": {
            "text/plain": [
              "{'17', '71'}"
            ]
          },
          "metadata": {},
          "execution_count": 6
        }
      ]
    },
    {
      "cell_type": "code",
      "source": [
        "\"\".join(('7', '1'))"
      ],
      "metadata": {
        "colab": {
          "base_uri": "https://localhost:8080/",
          "height": 35
        },
        "id": "cvBfJx3oSpQW",
        "outputId": "5e367c04-d738-4491-de01-9486fbb73296"
      },
      "execution_count": 10,
      "outputs": [
        {
          "output_type": "execute_result",
          "data": {
            "text/plain": [
              "'71'"
            ],
            "application/vnd.google.colaboratory.intrinsic+json": {
              "type": "string"
            }
          },
          "metadata": {},
          "execution_count": 10
        }
      ]
    }
  ]
}
