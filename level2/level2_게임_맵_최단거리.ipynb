{
  "nbformat": 4,
  "nbformat_minor": 0,
  "metadata": {
    "colab": {
      "name": "level2_게임 맵 최단거리.ipynb",
      "provenance": [],
      "collapsed_sections": [],
      "authorship_tag": "ABX9TyMjM0Q4rihkUSpc6YUPtMYY",
      "include_colab_link": true
    },
    "kernelspec": {
      "name": "python3",
      "display_name": "Python 3"
    },
    "language_info": {
      "name": "python"
    },
    "gpuClass": "standard"
  },
  "cells": [
    {
      "cell_type": "markdown",
      "metadata": {
        "id": "view-in-github",
        "colab_type": "text"
      },
      "source": [
        "<a href=\"https://colab.research.google.com/github/s2ul2/programmers_codingtest/blob/main/level2_%EA%B2%8C%EC%9E%84_%EB%A7%B5_%EC%B5%9C%EB%8B%A8%EA%B1%B0%EB%A6%AC.ipynb\" target=\"_parent\"><img src=\"https://colab.research.google.com/assets/colab-badge.svg\" alt=\"Open In Colab\"/></a>"
      ]
    },
    {
      "cell_type": "markdown",
      "source": [
        "# 나의 풀이 : 100점 (27분 54초)"
      ],
      "metadata": {
        "id": "xiiLdU9Blr6a"
      }
    },
    {
      "cell_type": "code",
      "execution_count": null,
      "metadata": {
        "id": "Owl6CElblm60"
      },
      "outputs": [],
      "source": [
        "from collections import deque\n",
        "def solution(maps):\n",
        "    n = len(maps) # i \n",
        "    m = len(maps[0]) # j\n",
        "    answer = 0\n",
        "    visited = [[-1] * m for _ in range(n)] # 처음에 모든 거리 -1로 초기화\n",
        "\n",
        "    # 방향벡터 정의 : 동 서 남 북\n",
        "    di_lst = [0, 0, 1, -1]\n",
        "    dj_lst = [1, -1, 0, 0]\n",
        "\n",
        "    q = deque([[0, 0]])\n",
        "    visited[0][0] = 1 # 시작점은 1으로 초기화\n",
        "    while q:\n",
        "        i, j = q.popleft()\n",
        "        # i, j에서 이동가능한 곳 찾기\n",
        "        for di, dj in zip(di_lst, dj_lst):\n",
        "            ni = i + di\n",
        "            nj = j + dj\n",
        "            if ni >= 0 and ni < n and nj >= 0 and nj < m:\n",
        "                if maps[ni][nj] == 1 and visited[ni][nj] == -1: # 벽이 아니고 방문한 적 없는경우 --> 이동 가능\n",
        "                    q.append([ni, nj])\n",
        "                    visited[ni][nj] = visited[i][j] + 1 # 이전 노드의 최단거리에 1 더하기\n",
        "    return visited[n-1][m-1]"
      ]
    },
    {
      "cell_type": "markdown",
      "source": [
        "* 처음에 문제 잘못읽어서 1을 벽이라고 생각했음.. 그래서 시간 오래걸림\n"
      ],
      "metadata": {
        "id": "U5lkaWd5lwUy"
      }
    },
    {
      "cell_type": "markdown",
      "source": [
        "# 다른사람 풀이"
      ],
      "metadata": {
        "id": "J0XTL8hUl33E"
      }
    }
  ]
}
