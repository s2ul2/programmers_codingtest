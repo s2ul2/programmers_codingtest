{
  "nbformat": 4,
  "nbformat_minor": 0,
  "metadata": {
    "colab": {
      "provenance": [],
      "collapsed_sections": [],
      "authorship_tag": "ABX9TyOcqUY2XZ1aqt2xS2YWalqa",
      "include_colab_link": true
    },
    "kernelspec": {
      "name": "python3",
      "display_name": "Python 3"
    },
    "language_info": {
      "name": "python"
    },
    "gpuClass": "standard"
  },
  "cells": [
    {
      "cell_type": "markdown",
      "metadata": {
        "id": "view-in-github",
        "colab_type": "text"
      },
      "source": [
        "<a href=\"https://colab.research.google.com/github/s2ul2/programmers_codingtest/blob/main/level2_%EC%99%84%EC%A0%84%ED%83%90%EC%83%89_%EB%AA%A8%EC%9D%8C%EC%82%AC%EC%A0%84.ipynb\" target=\"_parent\"><img src=\"https://colab.research.google.com/assets/colab-badge.svg\" alt=\"Open In Colab\"/></a>"
      ]
    },
    {
      "cell_type": "markdown",
      "source": [
        "# 나의 풀이 : 12분 40초"
      ],
      "metadata": {
        "id": "RO5MCUAZYKyv"
      }
    },
    {
      "cell_type": "code",
      "execution_count": null,
      "metadata": {
        "id": "lWAXR4NsYE3D"
      },
      "outputs": [],
      "source": [
        "from itertools import product\n",
        "def solution(word):\n",
        "    word_lst = ['A', 'E', 'I', 'O', 'U']\n",
        "    rst1 = product(word_lst, repeat = 1)\n",
        "    rst2 = product(word_lst, repeat = 2)\n",
        "    rst3 = product(word_lst, repeat = 3)\n",
        "    rst4 = product(word_lst, repeat = 4)\n",
        "    rst5 = product(word_lst, repeat = 5)\n",
        "    rst_set = set()\n",
        "    for r1 in rst1:\n",
        "        rst_set.add(''.join(r1))\n",
        "    for r2 in rst2:\n",
        "        rst_set.add(''.join(r2))\n",
        "    for r3 in rst3:\n",
        "        rst_set.add(''.join(r3))\n",
        "    for r4 in rst4:\n",
        "        rst_set.add(''.join(r4))\n",
        "    for r5 in rst5:\n",
        "        rst_set.add(''.join(r5))\n",
        "    sorted_set = sorted(rst_set)\n",
        "    return sorted_set.index(word) + 1"
      ]
    },
    {
      "cell_type": "markdown",
      "source": [
        "# 다른사람 풀이"
      ],
      "metadata": {
        "id": "Tn-hI2tfYPTN"
      }
    },
    {
      "cell_type": "code",
      "source": [
        "from itertools import product\n",
        "\n",
        "solution = lambda word: sorted([\"\".join(c) for i in range(5) for c in product(\"AEIOU\", repeat=i+1)]).index(word) + 1"
      ],
      "metadata": {
        "id": "QGY1SD9hYQQO"
      },
      "execution_count": null,
      "outputs": []
    }
  ]
}