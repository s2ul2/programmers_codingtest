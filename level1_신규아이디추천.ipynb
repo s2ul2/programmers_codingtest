{
  "nbformat": 4,
  "nbformat_minor": 0,
  "metadata": {
    "colab": {
      "name": "level1_신규아이디추천.ipynb",
      "provenance": [],
      "collapsed_sections": [],
      "authorship_tag": "ABX9TyOPeoh4hB30b2xAozOT3Ez/",
      "include_colab_link": true
    },
    "kernelspec": {
      "name": "python3",
      "display_name": "Python 3"
    },
    "language_info": {
      "name": "python"
    },
    "gpuClass": "standard"
  },
  "cells": [
    {
      "cell_type": "markdown",
      "metadata": {
        "id": "view-in-github",
        "colab_type": "text"
      },
      "source": [
        "<a href=\"https://colab.research.google.com/github/s2ul2/programmers_codingtest/blob/main/level1_%EC%8B%A0%EA%B7%9C%EC%95%84%EC%9D%B4%EB%94%94%EC%B6%94%EC%B2%9C.ipynb\" target=\"_parent\"><img src=\"https://colab.research.google.com/assets/colab-badge.svg\" alt=\"Open In Colab\"/></a>"
      ]
    },
    {
      "cell_type": "markdown",
      "source": [
        "# 내 풀이"
      ],
      "metadata": {
        "id": "V5xATdldx0ug"
      }
    },
    {
      "cell_type": "code",
      "execution_count": 23,
      "metadata": {
        "id": "erNZRO4WcMwC"
      },
      "outputs": [],
      "source": [
        "def solution(new_id):\n",
        "    # 1단계\n",
        "    new_id = new_id.lower()\n",
        "    # 2단계 : 특수문자 제거\n",
        "    str_lst = ['-', '_', '.']\n",
        "    num_str = '0 1 2 3 4 5 6 7 8 9'\n",
        "    num_lst = num_str.split(' ')\n",
        "    alphabet_str = 'a b c d e f g h i j k l m n o p q r s t u v w x y z'\n",
        "    alphabet_lst = alphabet_str.split(' ')\n",
        "    new_id2 = ''\n",
        "    for i in new_id:\n",
        "        if (i in str_lst) or (i in num_lst) or (i in alphabet_lst):\n",
        "            new_id2 += i\n",
        "    # 3단계  \n",
        "    i = 0\n",
        "    while 1:\n",
        "        if i >= (len(new_id2) - 1):\n",
        "            break\n",
        "        if (new_id2[i] == '.') and (new_id2[i+1] == '.'):\n",
        "            new_id2 = new_id2[:i] + new_id2[i+1:]\n",
        "            i = i-1\n",
        "        i += 1\n",
        "    # 4단계\n",
        "    if len(new_id2) > 0:\n",
        "        if (new_id2[0] == '.'):\n",
        "            new_id2 = new_id2[1:]\n",
        "    if len(new_id2) > 0:\n",
        "        if new_id2[-1] == '.':\n",
        "            new_id2 = new_id2[:-1]\n",
        "    # 5단계\n",
        "    if new_id2 =='':\n",
        "        new_id2 = 'a'\n",
        "    # 6단계\n",
        "    if len(new_id2) >= 16:\n",
        "        new_id2 = new_id2[:15]\n",
        "    if new_id2[-1] == '.':\n",
        "        new_id2 = new_id2[:-1]\n",
        "    # 7단계\n",
        "    while (len(new_id2) <= 2):\n",
        "        new_id2 += new_id2[-1]   \n",
        "    \n",
        "    return new_id2"
      ]
    },
    {
      "cell_type": "markdown",
      "source": [
        "# 다른사람 풀이"
      ],
      "metadata": {
        "id": "13r_474zx5eQ"
      }
    },
    {
      "cell_type": "code",
      "source": [
        "def solution(new_id):\n",
        "    answer = ''\n",
        "    # 1\n",
        "    new_id = new_id.lower()\n",
        "    # 2\n",
        "    for c in new_id:\n",
        "        if c.isalpha() or c.isdigit() or c in ['-', '_', '.']:\n",
        "            answer += c\n",
        "    # 3\n",
        "    while '..' in answer:\n",
        "        answer = answer.replace('..', '.')\n",
        "    # 4\n",
        "    if answer[0] == '.':\n",
        "        answer = answer[1:] if len(answer) > 1 else '.'\n",
        "    if answer[-1] == '.':\n",
        "        answer = answer[:-1]\n",
        "    # 5\n",
        "    if answer == '':\n",
        "        answer = 'a'\n",
        "    # 6\n",
        "    if len(answer) > 15:\n",
        "        answer = answer[:15]\n",
        "        if answer[-1] == '.':\n",
        "            answer = answer[:-1]\n",
        "    # 7\n",
        "    while len(answer) < 3:\n",
        "        answer += answer[-1]\n",
        "    return answer"
      ],
      "metadata": {
        "id": "aZ5D_DeZx6YB"
      },
      "execution_count": 24,
      "outputs": []
    },
    {
      "cell_type": "markdown",
      "source": [
        "* isalpha : 알파벳 확인\n",
        "* isdigit : 숫자인지 확인\n",
        "* 의문점 : 만약 new_id가 '==='이라면 2단계를 지나면서 빈문자열이되는데 그렇게되면 4단계에서 out of index 뜨는데,, 이거 올바른 코드가 맞는가?"
      ],
      "metadata": {
        "id": "vPXgRup2yQJc"
      }
    }
  ]
}