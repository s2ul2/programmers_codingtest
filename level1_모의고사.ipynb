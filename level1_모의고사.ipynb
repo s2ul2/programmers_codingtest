{
  "nbformat": 4,
  "nbformat_minor": 0,
  "metadata": {
    "colab": {
      "name": "level1_모의고사.ipynb",
      "provenance": [],
      "authorship_tag": "ABX9TyMmBoqBRjYq3/lk/H/8KT4p",
      "include_colab_link": true
    },
    "kernelspec": {
      "name": "python3",
      "display_name": "Python 3"
    },
    "language_info": {
      "name": "python"
    },
    "gpuClass": "standard"
  },
  "cells": [
    {
      "cell_type": "markdown",
      "metadata": {
        "id": "view-in-github",
        "colab_type": "text"
      },
      "source": [
        "<a href=\"https://colab.research.google.com/github/s2ul2/programmers_codingtest/blob/main/level1_%EB%AA%A8%EC%9D%98%EA%B3%A0%EC%82%AC.ipynb\" target=\"_parent\"><img src=\"https://colab.research.google.com/assets/colab-badge.svg\" alt=\"Open In Colab\"/></a>"
      ]
    },
    {
      "cell_type": "markdown",
      "source": [
        "# 나의풀이 : 100점 (30분)"
      ],
      "metadata": {
        "id": "kYvINifQR19q"
      }
    },
    {
      "cell_type": "code",
      "execution_count": null,
      "metadata": {
        "id": "lVKbI-0EqJfV"
      },
      "outputs": [],
      "source": [
        "def solution(answers):\n",
        "    ans_len = len(answers)\n",
        "\n",
        "    a =  [1, 2, 3, 4, 5] \n",
        "    a_rep_time = ans_len // len(a)\n",
        "    a_rep_remainder = ans_len % len(a)\n",
        "    a_lst = a * a_rep_time + a[:a_rep_remainder]\n",
        "\n",
        "    b =  [2, 1, 2, 3, 2, 4, 2, 5]     \n",
        "    b_rep_time = ans_len // len(b)\n",
        "    b_rep_remainder = ans_len % len(b)\n",
        "    b_lst = b * b_rep_time + b[:b_rep_remainder]\n",
        "\n",
        "    c =  [3, 3, 1, 1, 2, 2, 4, 4, 5, 5]\n",
        "    c_rep_time = ans_len // len(c)\n",
        "    c_rep_remainder = ans_len % len(c)\n",
        "    c_lst = c * c_rep_time + c[:c_rep_remainder]\n",
        "\n",
        "    correct_lst = []\n",
        "    for lst in [a_lst, b_lst, c_lst]:\n",
        "        correct_count = 0\n",
        "        for num, ans in zip(lst, answers):\n",
        "            if num == ans:\n",
        "                correct_count += 1\n",
        "        correct_lst.append(correct_count)\n",
        "    best_score_lst = []\n",
        "    for i in range(len(correct_lst)):\n",
        "        if correct_lst[i] == max(correct_lst):\n",
        "            best_score_lst.append(i+1)\n",
        "    sorted_lst = sorted(best_score_lst)\n",
        "    return sorted_lst\n"
      ]
    },
    {
      "cell_type": "markdown",
      "source": [
        "# 다른사람 풀이"
      ],
      "metadata": {
        "id": "d9II16RTR7Ro"
      }
    },
    {
      "cell_type": "code",
      "source": [
        "def solution(answers):\n",
        "    pattern1 = [1,2,3,4,5]\n",
        "    pattern2 = [2,1,2,3,2,4,2,5]\n",
        "    pattern3 = [3,3,1,1,2,2,4,4,5,5]\n",
        "    score = [0, 0, 0]\n",
        "    result = []\n",
        "\n",
        "    for idx, answer in enumerate(answers):\n",
        "        if answer == pattern1[idx%len(pattern1)]:\n",
        "            score[0] += 1\n",
        "        if answer == pattern2[idx%len(pattern2)]:\n",
        "            score[1] += 1\n",
        "        if answer == pattern3[idx%len(pattern3)]:\n",
        "            score[2] += 1\n",
        "\n",
        "    for idx, s in enumerate(score):\n",
        "        if s == max(score):\n",
        "            result.append(idx+1)\n",
        "\n",
        "    return result"
      ],
      "metadata": {
        "id": "_L9s5RCwR61Y"
      },
      "execution_count": null,
      "outputs": []
    },
    {
      "cell_type": "markdown",
      "source": [
        "* 굳이 a, b, c의 리스트를 만들 필요 없다. 각각의 패턴을 규칙으로하여 비교해도됨.\n",
        "* 리스트에서 인덱스랑 값 둘다 필요할 땐 enumerate를 활용하자\n",
        "* sort 할 필요 없다. 어차피 정렬된 순서로 탐색을 하기 때문에"
      ],
      "metadata": {
        "id": "JtOU9xL3TUDT"
      }
    }
  ]
}