{
  "nbformat": 4,
  "nbformat_minor": 0,
  "metadata": {
    "colab": {
      "name": "level2_가장 큰 수.ipynb",
      "provenance": [],
      "authorship_tag": "ABX9TyM75vFu0hIZj1AUuvLmgOJ9",
      "include_colab_link": true
    },
    "kernelspec": {
      "name": "python3",
      "display_name": "Python 3"
    },
    "language_info": {
      "name": "python"
    },
    "gpuClass": "standard"
  },
  "cells": [
    {
      "cell_type": "markdown",
      "metadata": {
        "id": "view-in-github",
        "colab_type": "text"
      },
      "source": [
        "<a href=\"https://colab.research.google.com/github/s2ul2/programmers_codingtest/blob/main/level2_%EA%B0%80%EC%9E%A5_%ED%81%B0_%EC%88%98.ipynb\" target=\"_parent\"><img src=\"https://colab.research.google.com/assets/colab-badge.svg\" alt=\"Open In Colab\"/></a>"
      ]
    },
    {
      "cell_type": "markdown",
      "source": [
        "링크 : https://school.programmers.co.kr/learn/courses/30/lessons/42746"
      ],
      "metadata": {
        "id": "yk0JjtVOUbvj"
      }
    },
    {
      "cell_type": "markdown",
      "source": [
        "# 내 풀이 : 틀림...."
      ],
      "metadata": {
        "id": "DZ4AxlXIw8g8"
      }
    },
    {
      "cell_type": "code",
      "source": [
        ""
      ],
      "metadata": {
        "id": "aGiTwwV9w_LN"
      },
      "execution_count": null,
      "outputs": []
    },
    {
      "cell_type": "markdown",
      "source": [
        "# 다른사람 풀이"
      ],
      "metadata": {
        "id": "srZsKWeCw1gt"
      }
    },
    {
      "cell_type": "code",
      "source": [
        "def solution(numbers):\n",
        "    numbers = list(map(str, numbers))\n",
        "    numbers.sort(key=lambda x: x*3, reverse=True)\n",
        "    return str(int(''.join(numbers)))"
      ],
      "metadata": {
        "id": "w3KAKzXCxA4f"
      },
      "execution_count": null,
      "outputs": []
    },
    {
      "cell_type": "markdown",
      "source": [
        "3을 곱하는 이유 (즉 왜 3번 반복하게 하는가?)\n",
        "\n",
        "각 num의 자릿수가 1000이하이니까요! 가령 9, 991 이면 9에다가 *2할 경우 99, 991991로 여전히 991이 더 앞편에 정렬되기 때문 (잘못 정렬된 것)\n",
        "\n",
        "하지만 3을 곱하면 999, 991991로 999가 991991보다 더 크므로 9가 991보다 앞에 정렬됨. (제대로 정렬됨)\n",
        "* 문자열도 리스트와 튜플과 마찬가지로 첫번째 원소를 기준으로 정렬 -> 두번째 원소를 기준으로 정렬 -> 세번째 원소를 기준으로 정렬 ... "
      ],
      "metadata": {
        "id": "Uqqza0blS2Zj"
      }
    },
    {
      "cell_type": "code",
      "source": [
        "'991' * 3"
      ],
      "metadata": {
        "colab": {
          "base_uri": "https://localhost:8080/",
          "height": 35
        },
        "id": "K5fkX1CjTcvT",
        "outputId": "798957d6-67ab-4e0f-dbda-c4582fb404f4"
      },
      "execution_count": 1,
      "outputs": [
        {
          "output_type": "execute_result",
          "data": {
            "text/plain": [
              "'991991991'"
            ],
            "application/vnd.google.colaboratory.intrinsic+json": {
              "type": "string"
            }
          },
          "metadata": {},
          "execution_count": 1
        }
      ]
    }
  ]
}