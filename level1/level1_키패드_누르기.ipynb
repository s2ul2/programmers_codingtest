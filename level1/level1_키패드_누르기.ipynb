{
  "nbformat": 4,
  "nbformat_minor": 0,
  "metadata": {
    "colab": {
      "name": "level1_키패드 누르기.ipynb",
      "provenance": [],
      "authorship_tag": "ABX9TyMxogDZSGuWrt4f1dmY/JYL",
      "include_colab_link": true
    },
    "kernelspec": {
      "name": "python3",
      "display_name": "Python 3"
    },
    "language_info": {
      "name": "python"
    },
    "gpuClass": "standard"
  },
  "cells": [
    {
      "cell_type": "markdown",
      "metadata": {
        "id": "view-in-github",
        "colab_type": "text"
      },
      "source": [
        "<a href=\"https://colab.research.google.com/github/s2ul2/programmers_codingtest/blob/main/level1_%ED%82%A4%ED%8C%A8%EB%93%9C_%EB%88%84%EB%A5%B4%EA%B8%B0.ipynb\" target=\"_parent\"><img src=\"https://colab.research.google.com/assets/colab-badge.svg\" alt=\"Open In Colab\"/></a>"
      ]
    },
    {
      "cell_type": "markdown",
      "source": [
        "# 나의풀이 (55점)"
      ],
      "metadata": {
        "id": "i2i-cZZCcX6E"
      }
    },
    {
      "cell_type": "code",
      "execution_count": null,
      "metadata": {
        "id": "GFkSjZ-A8t44"
      },
      "outputs": [],
      "source": [
        "# 1,4,7 : 왼손\n",
        "# 3, 6, 9 : 오른손\n",
        "# 2, 5, 8, 0 : 더 가까운곳 (만일 거리가 가깝다면 왼손잡이는 왼손, 오른손잡이는 오른손)\n",
        "def solution(numbers, hand):\n",
        "    answer = ''\n",
        "    left_lst = [10] # 왼손이 누른 키패드 숫자 리스트, 시작 위치 : 10으로 가정\n",
        "    right_lst = [11] # 오른손이 누른 키패드 숫자 리스트, 시작위치 : 11로 가정\n",
        "    for num in numbers:\n",
        "        if num in [1, 4, 7]:\n",
        "            left_lst.append(num)\n",
        "            answer += 'L'\n",
        "        elif num in [3, 6, 9]:\n",
        "            right_lst.append(num)\n",
        "            answer += 'R'\n",
        "        elif num in [2, 5, 8, 0]:\n",
        "            left_hand = left_lst[-1]\n",
        "            right_hand = right_lst[-1]\n",
        "            \n",
        "            dist_lst_dict = {2:[[1, 3, 5], [4, 8, 6], [7, 9, 0], [10, 11]], 5:[[2, 4, 6, 8], [1, 3, 7, 9, 0], [10, 11]], 8: [[5, 7, 9, 0], [4, 2, 6, 10, 11], [1, 3]], 0: [[8, 10, 11], [5, 7, 9], [2, 4, 6], [1, 3]]}\n",
        "            \n",
        "            dist_lst = dist_lst_dict[num]\n",
        "            for dist, num_lst in enumerate(dist_lst): # dist : 거리, num_lst : 해당 거리에 포함되는 숫자리스트\n",
        "                if left_hand in num_lst:\n",
        "                    left_dist = dist # 왼손과의 거리\n",
        "                if right_hand in num_lst:\n",
        "                    right_dist = dist # 오른손과의 거리\n",
        "            if left_dist < right_dist: # 왼손과의 거리가 더 가까움\n",
        "                left_lst.append(num)\n",
        "                answer += 'L'\n",
        "            elif left_dist > right_dist: #오른손과의 거리가 더 가까움\n",
        "                right_lst.append(num)\n",
        "                answer += 'R'\n",
        "            else: # 둘의 거리가 같음\n",
        "                if hand == 'right':\n",
        "                    right_lst.append(num)\n",
        "                    answer += 'R'\n",
        "                if hand =='left':\n",
        "                    left_lst.append(num)\n",
        "                    answer += 'L'\n",
        "    return answer"
      ]
    },
    {
      "cell_type": "markdown",
      "source": [
        "# 다른사람 풀이"
      ],
      "metadata": {
        "id": "yAmuwH9mcdHB"
      }
    },
    {
      "cell_type": "code",
      "source": [
        "def solution(numbers, hand):\n",
        "    answer = ''\n",
        "    key_dict = {1:(0,0),2:(0,1),3:(0,2),\n",
        "                4:(1,0),5:(1,1),6:(1,2),\n",
        "                7:(2,0),8:(2,1),9:(2,2),\n",
        "                '*':(3,0),0:(3,1),'#':(3,2)}\n",
        "\n",
        "    left = [1,4,7]\n",
        "    right = [3,6,9]\n",
        "    lhand = '*'\n",
        "    rhand = '#'\n",
        "    for i in numbers:\n",
        "        if i in left:\n",
        "            answer += 'L'\n",
        "            lhand = i\n",
        "        elif i in right:\n",
        "            answer += 'R'\n",
        "            rhand = i\n",
        "        else:\n",
        "            curPos = key_dict[i]\n",
        "            lPos = key_dict[lhand]\n",
        "            rPos = key_dict[rhand]\n",
        "            ldist = abs(curPos[0]-lPos[0]) + abs(curPos[1]-lPos[1])\n",
        "            rdist = abs(curPos[0]-rPos[0]) + abs(curPos[1]-rPos[1])\n",
        "\n",
        "            if ldist < rdist:\n",
        "                answer += 'L'\n",
        "                lhand = i\n",
        "            elif ldist > rdist:\n",
        "                answer += 'R'\n",
        "                rhand = i\n",
        "            else:\n",
        "                if hand == 'left':\n",
        "                    answer += 'L'\n",
        "                    lhand = i\n",
        "                else:\n",
        "                    answer += 'R'\n",
        "                    rhand = i\n",
        "\n",
        "    return answer"
      ],
      "metadata": {
        "id": "RkiKEH5A86nI"
      },
      "execution_count": null,
      "outputs": []
    },
    {
      "cell_type": "markdown",
      "source": [
        "나는 일일이 거리를 계산했는데 키패드의 좌표를 이용하면 일일이 거리를 계산을 안해도 된다..."
      ],
      "metadata": {
        "id": "qAwYktIzdLsV"
      }
    },
    {
      "cell_type": "code",
      "source": [
        ""
      ],
      "metadata": {
        "id": "vEZLX1N886r3"
      },
      "execution_count": null,
      "outputs": []
    },
    {
      "cell_type": "code",
      "source": [
        ""
      ],
      "metadata": {
        "id": "uzASPzIk86v2"
      },
      "execution_count": null,
      "outputs": []
    },
    {
      "cell_type": "code",
      "source": [
        ""
      ],
      "metadata": {
        "id": "FLd11aUx86z9"
      },
      "execution_count": null,
      "outputs": []
    },
    {
      "cell_type": "code",
      "source": [
        ""
      ],
      "metadata": {
        "id": "CASPriFC864R"
      },
      "execution_count": null,
      "outputs": []
    },
    {
      "cell_type": "code",
      "source": [
        ""
      ],
      "metadata": {
        "id": "FS0IdvuF868L"
      },
      "execution_count": null,
      "outputs": []
    },
    {
      "cell_type": "code",
      "source": [
        ""
      ],
      "metadata": {
        "id": "qYUW1YcS86_x"
      },
      "execution_count": null,
      "outputs": []
    }
  ]
}
