{
  "nbformat": 4,
  "nbformat_minor": 0,
  "metadata": {
    "colab": {
      "name": "level1_최대공약수와 최소공배수.ipynb",
      "provenance": [],
      "authorship_tag": "ABX9TyPO7Wpg0KEuq4G06yQx1gYL",
      "include_colab_link": true
    },
    "kernelspec": {
      "name": "python3",
      "display_name": "Python 3"
    },
    "language_info": {
      "name": "python"
    },
    "gpuClass": "standard"
  },
  "cells": [
    {
      "cell_type": "markdown",
      "metadata": {
        "id": "view-in-github",
        "colab_type": "text"
      },
      "source": [
        "<a href=\"https://colab.research.google.com/github/s2ul2/programmers_codingtest/blob/main/level1_%EC%B5%9C%EB%8C%80%EA%B3%B5%EC%95%BD%EC%88%98%EC%99%80_%EC%B5%9C%EC%86%8C%EA%B3%B5%EB%B0%B0%EC%88%98.ipynb\" target=\"_parent\"><img src=\"https://colab.research.google.com/assets/colab-badge.svg\" alt=\"Open In Colab\"/></a>"
      ]
    },
    {
      "cell_type": "markdown",
      "source": [
        "# 나의풀이 : 100점 (13분)"
      ],
      "metadata": {
        "id": "qiLC5SK7foyk"
      }
    },
    {
      "cell_type": "code",
      "execution_count": null,
      "metadata": {
        "id": "WCKTh3p0b54-"
      },
      "outputs": [],
      "source": [
        "def solution(n, m):\n",
        "    for i in range(1, min(n, m) + 1):\n",
        "        if (n % i == 0) and (m % i == 0):\n",
        "            min_result = i\n",
        "    k = 0\n",
        "    while 1:\n",
        "        k += 1\n",
        "        if (max(n, m) * k) % min(n, m) == 0:\n",
        "            max_result = max(n, m) * k\n",
        "            break\n",
        "\n",
        "    answer = [min_result, max_result]\n",
        "    return answer"
      ]
    },
    {
      "cell_type": "markdown",
      "source": [
        "# 다른사람 풀이"
      ],
      "metadata": {
        "id": "1Ygu6AodhNPV"
      }
    },
    {
      "cell_type": "code",
      "source": [
        "def solution(n, m):\n",
        "    r1, r2 = max(n, m), min(n,m)\n",
        "    while r2 != 0:\n",
        "        t = r1 % r2\n",
        "        r1, r2 = r2, t\n",
        "    # r2 == 0이 되면 r1이 n과 m의 최대공약수가 된다.\n",
        "    answer = [r1, int(n * m / r1)]\n",
        "    return answer"
      ],
      "metadata": {
        "id": "8kjId5J_fq07"
      },
      "execution_count": null,
      "outputs": []
    },
    {
      "cell_type": "markdown",
      "source": [
        "* 최대공약수는 유클리디안 호제법 이용!!\n",
        "* 최대공약수 구하면 그 값을 바탕으로 최소공배수 구할 수 있음\n",
        " : int(a*b/c)"
      ],
      "metadata": {
        "id": "yipHF4YKhOy2"
      }
    }
  ]
}
