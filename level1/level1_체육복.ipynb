{
  "nbformat": 4,
  "nbformat_minor": 0,
  "metadata": {
    "colab": {
      "name": "level1_체육복.ipynb",
      "provenance": [],
      "collapsed_sections": [],
      "authorship_tag": "ABX9TyOkFOhtK2Cv1uMD+SzohXRd",
      "include_colab_link": true
    },
    "kernelspec": {
      "name": "python3",
      "display_name": "Python 3"
    },
    "language_info": {
      "name": "python"
    },
    "gpuClass": "standard"
  },
  "cells": [
    {
      "cell_type": "markdown",
      "metadata": {
        "id": "view-in-github",
        "colab_type": "text"
      },
      "source": [
        "<a href=\"https://colab.research.google.com/github/s2ul2/programmers_codingtest/blob/main/level1_%EC%B2%B4%EC%9C%A1%EB%B3%B5.ipynb\" target=\"_parent\"><img src=\"https://colab.research.google.com/assets/colab-badge.svg\" alt=\"Open In Colab\"/></a>"
      ]
    },
    {
      "cell_type": "markdown",
      "source": [
        "# 나의풀이 : 100점 (질문 참고, 1시간 넘음)"
      ],
      "metadata": {
        "id": "fZeSB-fAUbdl"
      }
    },
    {
      "cell_type": "code",
      "execution_count": null,
      "metadata": {
        "id": "h4seA6A1UR4q"
      },
      "outputs": [],
      "source": [
        "def solution(n, lost, reserve):\n",
        "    answer = n\n",
        "    reserve = sorted(reserve)\n",
        "    lost = sorted(lost)\n",
        "    # 중복제거 (같은 학생이 도난을 당했지만 여분 옷도 있는 경우)\n",
        "    for lost_i in lost[:]:\n",
        "        for res_j in reserve[:]:\n",
        "            if lost_i == res_j:\n",
        "                reserve.remove(res_j)\n",
        "                lost.remove(lost_i)\n",
        "\n",
        "    for lost_i in lost[:]:\n",
        "        print('lost_i : ' + str(lost_i))\n",
        "        isremove = 0\n",
        "        for res_j in reserve[:]:\n",
        "            print('res_j : ' + str(res_j))\n",
        "            if res_j in [lost_i - 1, lost_i + 1]: # lost_i에게 체육복을 빌려줄 수 있는 res_j가 있는 경우\n",
        "                reserve.remove(res_j) # res_j는 체육복을 빌려줬으므로 더이상 여벌의 체육복이 없음. 따라서 reserve리스트에서 제거\n",
        "                print('remove: ' + str(res_j))\n",
        "                print('answer: ' + str(answer))\n",
        "                isremove = 1\n",
        "                break # 두번째 for문 탈출              \n",
        "        print('isremove : ' + str(isremove))   \n",
        "        if isremove == 0: # lost_i는 여전히 있는데 여벌 옷을 가진 학생이 없는 경우\n",
        "            answer -= 1\n",
        "            print('answer: ' + str(answer))\n",
        "        print('--------------------------------')"
      ]
    },
    {
      "cell_type": "markdown",
      "source": [
        "# 다른사람 풀이"
      ],
      "metadata": {
        "id": "aEIbIuciUdUK"
      }
    },
    {
      "cell_type": "code",
      "source": [
        "def solution(n, lost, reserve):\n",
        "    # 중복제거\n",
        "    _reserve = sorted([r for r in reserve if r not in lost])\n",
        "    _lost = sorted([l for l in lost if l not in reserve])\n",
        "\n",
        "\n",
        "    for r in _reserve:\n",
        "        f = r - 1\n",
        "        b = r + 1\n",
        "        if f in _lost:\n",
        "            _lost.remove(f)\n",
        "        elif b in _lost:\n",
        "            _lost.remove(b)\n",
        "    return n - len(_lost)"
      ],
      "metadata": {
        "id": "w4SSyC9mUeZi"
      },
      "execution_count": null,
      "outputs": []
    },
    {
      "cell_type": "markdown",
      "source": [
        "* 중복제거 코드는 for~if문으로 쉽게 작성할 수 있다.\n",
        "* sorted를 해야하는 이유\n",
        "n = 5\n",
        ",lost = [2,4]\n",
        ",reserve = [3,1]\n",
        ", result = 5인경우\n",
        "* 위 예시의 정답은 1번 학생이 2번 학생에게, 3번 학생이 4번 학생에게 빌려줘서 5명 모두 체육복을 빌리는 건데,\n",
        "reserve가 정렬되어 있지 않아서 3번 학생이 2번 학생에게 빌려주고, 1번 학생은 여벌을 갖고 있고 4번 학생은 체육복이 없어서 4명만 체육복이 있게 됩니다. \n",
        "* --> 따라서 정렬이 필요함\n",
        "* lost말고 reserve를 바탕으로 for문 돌리자."
      ],
      "metadata": {
        "id": "4OxN-A9ToQK4"
      }
    }
  ]
}
