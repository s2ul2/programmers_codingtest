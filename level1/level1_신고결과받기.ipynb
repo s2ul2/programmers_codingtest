{
  "nbformat": 4,
  "nbformat_minor": 0,
  "metadata": {
    "colab": {
      "name": "level1_신고결과받기.ipynb",
      "provenance": [],
      "collapsed_sections": [],
      "authorship_tag": "ABX9TyPZ9UG09DhW3wTVYyihkz6F",
      "include_colab_link": true
    },
    "kernelspec": {
      "name": "python3",
      "display_name": "Python 3"
    },
    "language_info": {
      "name": "python"
    },
    "gpuClass": "standard"
  },
  "cells": [
    {
      "cell_type": "markdown",
      "metadata": {
        "id": "view-in-github",
        "colab_type": "text"
      },
      "source": [
        "<a href=\"https://colab.research.google.com/github/s2ul2/programmers_codingtest/blob/main/level1_%EC%8B%A0%EA%B3%A0%EA%B2%B0%EA%B3%BC%EB%B0%9B%EA%B8%B0.ipynb\" target=\"_parent\"><img src=\"https://colab.research.google.com/assets/colab-badge.svg\" alt=\"Open In Colab\"/></a>"
      ]
    },
    {
      "cell_type": "code",
      "execution_count": null,
      "metadata": {
        "id": "wBMyQ2sKoPMG"
      },
      "outputs": [],
      "source": [
        "# 나의 풀이 (95.8점)\n",
        "def solution(id_list, report, k):\n",
        "    answer = []\n",
        "    send_lst = []  # 신고한 사람 list\n",
        "    receiver_lst = [] # 신고당한 사람 list\n",
        "    report_dict = dict() # 신고당한 사람 : 신고한 사람\n",
        "    receiver_dict = dict() # id : 신고당한 횟수\n",
        "    stop_lst = [] # 정지 당하는 user id\n",
        "    mail_lst = [] # 메일 받는 사람 user id\n",
        "    \n",
        "    for case in list(set(report)):\n",
        "        send_lst.append(case.split(' ')[0])\n",
        "        receiver_lst.append(case.split(' ')[1])\n",
        "        #report_dict[case.split(' ')[1]] = case.split(' ')[0] \n",
        "        \n",
        "    # id별로 신고당한 횟수 구하기\n",
        "    for id in list(set(receiver_lst)):\n",
        "        cnt = receiver_lst.count(id)\n",
        "        if cnt >= k:\n",
        "            stop_lst.append(id)\n",
        "        #receiver_dict[id] = cnt\n",
        "    \n",
        "    for stop_user in stop_lst:\n",
        "        idx_lst = [i for i, x in enumerate(receiver_lst) if x == stop_user] # 정지된 사용자의 receiver_lst의 index 구하기\n",
        "        for idx in idx_lst:\n",
        "            mail_lst.append(send_lst[idx]) # send_lst의 첨자로 위에서 구한 idx를 넣으면 해당 유저는 메일을 받는 유저임.\n",
        "    \n",
        "    for id in id_list: \n",
        "        answer.append(mail_lst.count(id)) # 각 user의 메일 받는 횟수 구하기\n",
        "        \n",
        "    return answer\n"
      ]
    },
    {
      "cell_type": "code",
      "source": [
        "# 다른사람 풀이\n",
        "def solution(id_list, report, k):\n",
        "    answer = [0] * len(id_list)  # id_list와 answer의 유저 순서는 같다.\n",
        "    reports = {x : 0 for x in id_list} \n",
        "\n",
        "    for r in set(report):\n",
        "        reports[r.split()[1]] += 1 # reports = {id : 신고당한 횟수}\n",
        "\n",
        "    for r in set(report):\n",
        "        if reports[r.split()[1]] >= k:  # r번째 신고에서 신고당한 user의 신고받은 총 횟수가 k번 이상일 경우\n",
        "            answer[id_list.index(r.split()[0])] += 1   # -> r번째 신고에서 신고를 한 user에게 메일을 보내야함. id_list에서 이 user의 index를 찾은 후 answer 리스트에서 해당 index에 1을 더함\n",
        "\n",
        "    return answer"
      ],
      "metadata": {
        "id": "dSMRjIA0cnI7"
      },
      "execution_count": null,
      "outputs": []
    }
  ]
}
