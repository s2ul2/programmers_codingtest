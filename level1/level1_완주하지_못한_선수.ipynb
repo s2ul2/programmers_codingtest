{
  "nbformat": 4,
  "nbformat_minor": 0,
  "metadata": {
    "colab": {
      "name": "level1_완주하지 못한 선수.ipynb",
      "provenance": [],
      "authorship_tag": "ABX9TyNxDiWXU54IPDs6i/RlDtwf",
      "include_colab_link": true
    },
    "kernelspec": {
      "name": "python3",
      "display_name": "Python 3"
    },
    "language_info": {
      "name": "python"
    },
    "gpuClass": "standard"
  },
  "cells": [
    {
      "cell_type": "markdown",
      "metadata": {
        "id": "view-in-github",
        "colab_type": "text"
      },
      "source": [
        "<a href=\"https://colab.research.google.com/github/s2ul2/programmers_codingtest/blob/main/level1_%EC%99%84%EC%A3%BC%ED%95%98%EC%A7%80_%EB%AA%BB%ED%95%9C_%EC%84%A0%EC%88%98.ipynb\" target=\"_parent\"><img src=\"https://colab.research.google.com/assets/colab-badge.svg\" alt=\"Open In Colab\"/></a>"
      ]
    },
    {
      "cell_type": "markdown",
      "source": [
        "# 나의 풀이 : 50점(정확도 50/50, 효율 : 0/50)"
      ],
      "metadata": {
        "id": "KveYtRswaz_j"
      }
    },
    {
      "cell_type": "code",
      "execution_count": null,
      "metadata": {
        "id": "Kd_aYHlDaPyx"
      },
      "outputs": [],
      "source": [
        "def solution(participant, completion):\n",
        "    if len(set(participant))!= len(participant): # 참가자 명단에 중복값이 존재하는 경우\n",
        "        for i in completion:\n",
        "            if i in participant:\n",
        "                participant.remove(i)\n",
        "        return participant[0]\n",
        "    return list(set(participant) - set(completion))[0]\n"
      ]
    },
    {
      "cell_type": "markdown",
      "source": [
        "# 다른사람 풀이1"
      ],
      "metadata": {
        "id": "Wq3w5Q-_a1nV"
      }
    },
    {
      "cell_type": "code",
      "source": [
        "import collections\n",
        "\n",
        "\n",
        "def solution(participant, completion):\n",
        "    answer = collections.Counter(participant) - collections.Counter(completion)\n",
        "    return list(answer.keys())[0]"
      ],
      "metadata": {
        "id": "9NPT10KhWdlC"
      },
      "execution_count": null,
      "outputs": []
    },
    {
      "cell_type": "markdown",
      "source": [
        "* 데이터 개수를 셀 때 유용한 collection 모듈의 Counter --> return 값은 딕셔너리 형태\n",
        "* Counter 객체끼리 빼기 연산 가능 (단, 딕셔너리는 빼기 연산 불가능)"
      ],
      "metadata": {
        "id": "eVyuk8wsWgTW"
      }
    },
    {
      "cell_type": "code",
      "source": [
        "# Counter 예시\n",
        "from collections import Counter\n",
        "print(Counter('hello world'))\n",
        "Counter('hello world') - Counter('hi')"
      ],
      "metadata": {
        "colab": {
          "base_uri": "https://localhost:8080/"
        },
        "id": "UDq9srFJWdph",
        "outputId": "3b582c41-47c5-4590-85e3-d1ed46f2cb64"
      },
      "execution_count": 5,
      "outputs": [
        {
          "output_type": "stream",
          "name": "stdout",
          "text": [
            "Counter({'l': 3, 'o': 2, 'h': 1, 'e': 1, ' ': 1, 'w': 1, 'r': 1, 'd': 1})\n"
          ]
        },
        {
          "output_type": "execute_result",
          "data": {
            "text/plain": [
              "Counter({' ': 1, 'd': 1, 'e': 1, 'l': 3, 'o': 2, 'r': 1, 'w': 1})"
            ]
          },
          "metadata": {},
          "execution_count": 5
        }
      ]
    },
    {
      "cell_type": "markdown",
      "source": [
        "# 다른사람 풀이2 : 수의 가감을 이용한 풀이(hash 함수 사용)"
      ],
      "metadata": {
        "id": "qwbVLZfZZsQK"
      }
    },
    {
      "cell_type": "markdown",
      "source": [
        "해시 테이블은 파이썬의 딕셔너리(dictionary)와 같다\n",
        "\n",
        " \n",
        " 해시 테이블은 자료의 접근이 O(1)이다\n",
        "\n",
        "menu에서 melon의 가격을 찾고 싶다면 menu의 인덱스를 모두 찾지 말고 key값이 melon인 것에 접근하면 되기 때문이다.\n",
        "\n",
        " \n",
        "\n",
        "이런 해시 테이블의 원리는 hash 함수에 있다.\n",
        "\n",
        "파이썬 콘솔에서 hash() 함수에 \"melon\"인자를 넣어보자\n"
      ],
      "metadata": {
        "id": "4Lr3R4V0acN3"
      }
    },
    {
      "cell_type": "code",
      "source": [
        "hash('melon') # 이런식으로 무작위의 임의의 숫자가 생성된다. 이 값을 dictionary의 key 값으로 넣는 것이다."
      ],
      "metadata": {
        "colab": {
          "base_uri": "https://localhost:8080/"
        },
        "id": "83t6vbNRWdzi",
        "outputId": "c1931030-0607-4871-e716-261e6320d1c2"
      },
      "execution_count": 7,
      "outputs": [
        {
          "output_type": "execute_result",
          "data": {
            "text/plain": [
              "5128801631924121129"
            ]
          },
          "metadata": {},
          "execution_count": 7
        }
      ]
    },
    {
      "cell_type": "code",
      "source": [
        "# 각 참가자들의 hash값을 더해준 다음, 완주한 참가자들의 hash값을 빼주면 --> 완주 못한 참가자의 hash값이 나옴. 이것을 dict에 넣으면 그 사람의 이름이 추출됨\n",
        "def solution(participant, completion):\n",
        "    answer = ''\n",
        "    temp = 0\n",
        "    dic = {}\n",
        "    for part in participant:\n",
        "        dic[hash(part)] = part\n",
        "        print('hash : ' + str(hash(part)))\n",
        "        temp += int(hash(part))\n",
        "        print('temp : ' + str(temp))\n",
        "    print(dic)\n",
        "    print('---------------------------------------------')\n",
        "    for com in completion:\n",
        "        print('hash : ' + str(hash(com)))\n",
        "        temp -= hash(com)\n",
        "        print(temp)\n",
        "    answer = dic[temp]\n",
        "\n",
        "    return answer"
      ],
      "metadata": {
        "id": "iQE8rH42Wd4Y"
      },
      "execution_count": 13,
      "outputs": []
    },
    {
      "cell_type": "code",
      "source": [
        "solution(['a', 'b', 'b', 'c'], ['a', 'b', 'c'])"
      ],
      "metadata": {
        "colab": {
          "base_uri": "https://localhost:8080/",
          "height": 330
        },
        "id": "1yiME0A-bbAa",
        "outputId": "15fc835a-6313-491d-cf46-d0d9ab0cf6a8"
      },
      "execution_count": 14,
      "outputs": [
        {
          "output_type": "stream",
          "name": "stdout",
          "text": [
            "hash : 1146614644006314949\n",
            "temp : 1146614644006314949\n",
            "hash : 4147523894901407955\n",
            "temp : 5294138538907722904\n",
            "hash : 4147523894901407955\n",
            "temp : 9441662433809130859\n",
            "hash : -769457664735300933\n",
            "temp : 8672204769073829926\n",
            "{1146614644006314949: 'a', 4147523894901407955: 'b', -769457664735300933: 'c'}\n",
            "---------------------------------------------\n",
            "hash : 1146614644006314949\n",
            "7525590125067514977\n",
            "hash : 4147523894901407955\n",
            "3378066230166107022\n",
            "hash : -769457664735300933\n",
            "4147523894901407955\n"
          ]
        },
        {
          "output_type": "execute_result",
          "data": {
            "text/plain": [
              "'b'"
            ],
            "application/vnd.google.colaboratory.intrinsic+json": {
              "type": "string"
            }
          },
          "metadata": {},
          "execution_count": 14
        }
      ]
    },
    {
      "cell_type": "markdown",
      "source": [
        "# 다른사람 풀이3 : 정렬 활용"
      ],
      "metadata": {
        "id": "IyJcVbXjdzot"
      }
    },
    {
      "cell_type": "code",
      "source": [
        "def solution(participant, completion):\n",
        "    participant.sort()\n",
        "    completion.sort()\n",
        "    for i in range(len(completion)):\n",
        "        if participant[i] != completion[i]:\n",
        "            return participant[i]\n",
        "    return participant[len(participant)-1]"
      ],
      "metadata": {
        "id": "01MDmSRBbkz5"
      },
      "execution_count": null,
      "outputs": []
    },
    {
      "cell_type": "markdown",
      "source": [
        "- 마지막 return 의미 : 동명이인의 참가자가 정렬되었을때 마지막에 위치하면(예를 들어 참가자:[a,b,c,c] 완주자:[a,b,c]) completion의 길이가 participant의 길이보다 1 작기 때문에 for루프에서 선별이 안되므로 함수로직의 마지막 부분에서 participant의 마지막 인덱스에 있는 참가자를 return하는 구조"
      ],
      "metadata": {
        "id": "MPQITO61dwaE"
      }
    }
  ]
}
