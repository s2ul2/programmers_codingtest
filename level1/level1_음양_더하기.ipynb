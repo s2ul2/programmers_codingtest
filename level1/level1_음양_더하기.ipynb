{
  "nbformat": 4,
  "nbformat_minor": 0,
  "metadata": {
    "colab": {
      "name": "level1_음양 더하기.ipynb",
      "provenance": [],
      "authorship_tag": "ABX9TyOYLblPSNCEkW4RrS9XTiJY",
      "include_colab_link": true
    },
    "kernelspec": {
      "name": "python3",
      "display_name": "Python 3"
    },
    "language_info": {
      "name": "python"
    },
    "gpuClass": "standard"
  },
  "cells": [
    {
      "cell_type": "markdown",
      "metadata": {
        "id": "view-in-github",
        "colab_type": "text"
      },
      "source": [
        "<a href=\"https://colab.research.google.com/github/s2ul2/programmers_codingtest/blob/main/level1_%EC%9D%8C%EC%96%91_%EB%8D%94%ED%95%98%EA%B8%B0.ipynb\" target=\"_parent\"><img src=\"https://colab.research.google.com/assets/colab-badge.svg\" alt=\"Open In Colab\"/></a>"
      ]
    },
    {
      "cell_type": "markdown",
      "source": [
        "# 나의풀이 : 100점 (8분50초)"
      ],
      "metadata": {
        "id": "LYjkKMQVLxTw"
      }
    },
    {
      "cell_type": "code",
      "execution_count": null,
      "metadata": {
        "id": "hhu8vUrsWkIR"
      },
      "outputs": [],
      "source": [
        "# true : 양, False : 음\n",
        "def solution(absolutes, signs):\n",
        "    answer = 0\n",
        "    for i, ab_num in enumerate(absolutes):\n",
        "        if signs[i] == False:\n",
        "            answer -= ab_num\n",
        "        else:\n",
        "            answer += ab_num\n",
        "\n",
        "    return answer"
      ]
    },
    {
      "cell_type": "markdown",
      "source": [
        "# 다른사람 풀이"
      ],
      "metadata": {
        "id": "nowBh0H3L3ha"
      }
    },
    {
      "cell_type": "code",
      "source": [
        "def solution(absolutes, signs):\n",
        "    return sum(absolutes if sign else -absolutes for absolutes, sign in zip(absolutes, signs))"
      ],
      "metadata": {
        "id": "caR80mHHMHBw"
      },
      "execution_count": null,
      "outputs": []
    },
    {
      "cell_type": "markdown",
      "source": [
        "sings 리스트 내 원소가 boolean인데 string인줄 알아서 오래걸림."
      ],
      "metadata": {
        "id": "7RR6PyNEMIKI"
      }
    }
  ]
}
