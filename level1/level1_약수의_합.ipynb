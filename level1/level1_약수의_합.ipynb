{
  "nbformat": 4,
  "nbformat_minor": 0,
  "metadata": {
    "colab": {
      "name": "level1_약수의 합.ipynb",
      "provenance": [],
      "authorship_tag": "ABX9TyNoIsaBr6voUvNF3NQ/mFy7",
      "include_colab_link": true
    },
    "kernelspec": {
      "name": "python3",
      "display_name": "Python 3"
    },
    "language_info": {
      "name": "python"
    },
    "gpuClass": "standard"
  },
  "cells": [
    {
      "cell_type": "markdown",
      "metadata": {
        "id": "view-in-github",
        "colab_type": "text"
      },
      "source": [
        "<a href=\"https://colab.research.google.com/github/s2ul2/programmers_codingtest/blob/main/level1_%EC%95%BD%EC%88%98%EC%9D%98_%ED%95%A9.ipynb\" target=\"_parent\"><img src=\"https://colab.research.google.com/assets/colab-badge.svg\" alt=\"Open In Colab\"/></a>"
      ]
    },
    {
      "cell_type": "markdown",
      "source": [
        "# 나의 풀이 : 100점 (7분 30초)"
      ],
      "metadata": {
        "id": "eZFbDts6ZlaZ"
      }
    },
    {
      "cell_type": "code",
      "execution_count": null,
      "metadata": {
        "id": "TV-uYsfWZf-7"
      },
      "outputs": [],
      "source": [
        "def solution(n):\n",
        "    answer = sum([i for i in range(1, n+1) if n % i == 0])\n",
        "    return answer"
      ]
    },
    {
      "cell_type": "markdown",
      "source": [
        "# 다른사람 풀이"
      ],
      "metadata": {
        "id": "dSsAyx2pZoFZ"
      }
    },
    {
      "cell_type": "code",
      "source": [
        "def solution(n):\n",
        "    answer = sum([i for i in range(1, n+1) if n % i == 0])\n",
        "    return answer"
      ],
      "metadata": {
        "id": "PUZiKbMPZptZ"
      },
      "execution_count": null,
      "outputs": []
    }
  ]
}
