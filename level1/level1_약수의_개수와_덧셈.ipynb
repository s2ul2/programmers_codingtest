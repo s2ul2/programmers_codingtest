{
  "nbformat": 4,
  "nbformat_minor": 0,
  "metadata": {
    "colab": {
      "name": "level1_약수의 개수와 덧셈.ipynb",
      "provenance": [],
      "collapsed_sections": [],
      "authorship_tag": "ABX9TyPtjfbRz6h6kxAJKQtsl17H",
      "include_colab_link": true
    },
    "kernelspec": {
      "name": "python3",
      "display_name": "Python 3"
    },
    "language_info": {
      "name": "python"
    },
    "gpuClass": "standard"
  },
  "cells": [
    {
      "cell_type": "markdown",
      "metadata": {
        "id": "view-in-github",
        "colab_type": "text"
      },
      "source": [
        "<a href=\"https://colab.research.google.com/github/s2ul2/programmers_codingtest/blob/main/level1_%EC%95%BD%EC%88%98%EC%9D%98_%EA%B0%9C%EC%88%98%EC%99%80_%EB%8D%A7%EC%85%88.ipynb\" target=\"_parent\"><img src=\"https://colab.research.google.com/assets/colab-badge.svg\" alt=\"Open In Colab\"/></a>"
      ]
    },
    {
      "cell_type": "markdown",
      "source": [
        "# 나의 풀이 : 100점( 6분16초 )"
      ],
      "metadata": {
        "id": "1WIwulfim1IF"
      }
    },
    {
      "cell_type": "code",
      "execution_count": null,
      "metadata": {
        "id": "Vmjd-MXkmvlO"
      },
      "outputs": [],
      "source": [
        "def solution(left, right):\n",
        "    answer = 0\n",
        "    for n in range(left, right+1):\n",
        "        cnt = 0 \n",
        "        for i in range(1, n+1): # 1~n 까지 나눠보기\n",
        "            if n%i == 0:\n",
        "                cnt += 1\n",
        "        if cnt % 2 == 0: # 약수 개수가 짝수라면\n",
        "            answer += n # 그 숫자 더하기\n",
        "        else:           # 약수 개수가 홀수랴면\n",
        "            answer -= n  # 그 숫자 빼기\n",
        "\n",
        "    return answer"
      ]
    },
    {
      "cell_type": "markdown",
      "source": [
        "# 다른사람 풀이"
      ],
      "metadata": {
        "id": "-9mf-Fbxm2pw"
      }
    },
    {
      "cell_type": "code",
      "source": [
        "def solution(left, right):\n",
        "    answer = 0\n",
        "    for i in range(left,right+1):\n",
        "        if int(i**0.5)==i**0.5: # i가 제곱수라면 --> 약수 개수 : 홀수\n",
        "            answer -= i\n",
        "        else:\n",
        "            answer += i\n",
        "    return answer"
      ],
      "metadata": {
        "id": "FatDm1fIm3sf"
      },
      "execution_count": null,
      "outputs": []
    },
    {
      "cell_type": "markdown",
      "source": [
        "* 제곱수는 약수의 개수가 무조건 홀수임.\n",
        "    * 4의 제곱근은 2 --> 4의 약수 : 1, 2, 4\n",
        "    * 9의 제곱근은 3 --> 9의 약수 : 1, 3, 9\n",
        "    * 10은 제곱수 X --> 10의 약수 : 1, 2, 5, 10\n",
        "* 제곱근이 정수로 표현이 가능한 수(즉 제곱수)는 약수의 개수가 홀수.\n",
        "* 제곱수가 아닌 수는 약수의 개수 무조건 짝수"
      ],
      "metadata": {
        "id": "zPtQxLwXVhfG"
      }
    }
  ]
}
