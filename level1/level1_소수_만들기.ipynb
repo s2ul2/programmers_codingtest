{
  "nbformat": 4,
  "nbformat_minor": 0,
  "metadata": {
    "colab": {
      "name": "level1_소수 만들기.ipynb",
      "provenance": [],
      "authorship_tag": "ABX9TyONNAwvrydHA+ZuhEm4EyCt",
      "include_colab_link": true
    },
    "kernelspec": {
      "name": "python3",
      "display_name": "Python 3"
    },
    "language_info": {
      "name": "python"
    },
    "gpuClass": "standard"
  },
  "cells": [
    {
      "cell_type": "markdown",
      "metadata": {
        "id": "view-in-github",
        "colab_type": "text"
      },
      "source": [
        "<a href=\"https://colab.research.google.com/github/s2ul2/programmers_codingtest/blob/main/level1_%EC%86%8C%EC%88%98_%EB%A7%8C%EB%93%A4%EA%B8%B0.ipynb\" target=\"_parent\"><img src=\"https://colab.research.google.com/assets/colab-badge.svg\" alt=\"Open In Colab\"/></a>"
      ]
    },
    {
      "cell_type": "markdown",
      "source": [
        "# 나의풀이 : 100점(14분 45초)"
      ],
      "metadata": {
        "id": "dTNrp3FbOuUL"
      }
    },
    {
      "cell_type": "code",
      "execution_count": null,
      "metadata": {
        "id": "0uNLx7juOZCg"
      },
      "outputs": [],
      "source": [
        "def solution(nums):\n",
        "    answer = -1\n",
        "    prime_lst = []\n",
        "    len_nums = len(nums)\n",
        "    for i in range(len_nums):\n",
        "        for j in range(i+1, len_nums):\n",
        "            for k in range(j+1, len_nums):\n",
        "                total = nums[i] + nums[j] + nums[k]\n",
        "                for div_num in range(2, total): # 2부터 n-1까지 나누기 -> 모두 안나눠떨어지면 소수\n",
        "                    if total % div_num == 0:\n",
        "                        prime = False\n",
        "                        break # 나눠떨어지면 소수가 아니므로 4번째 for문 탈출\n",
        "                    else:\n",
        "                        prime = True\n",
        "                if prime:\n",
        "                    prime_lst.append(total)\n",
        "\n",
        "    return len(prime_lst)"
      ]
    },
    {
      "cell_type": "markdown",
      "source": [
        "# 다른사람 풀이"
      ],
      "metadata": {
        "id": "EXAMX1VkSXuE"
      }
    },
    {
      "cell_type": "code",
      "source": [
        "def solution(nums):\n",
        "    from itertools import combinations as cb\n",
        "    answer = 0\n",
        "    for a in cb(nums, 3):\n",
        "        cand = sum(a)\n",
        "        for j in range(2, cand):\n",
        "            if cand%j==0:\n",
        "                break\n",
        "        else:\n",
        "            answer += 1\n",
        "    return answer"
      ],
      "metadata": {
        "id": "XIR9y79hSO53"
      },
      "execution_count": null,
      "outputs": []
    },
    {
      "cell_type": "markdown",
      "source": [
        "- 제곱근을 구하고 싶을 땐 **0.5를 사용하자 (sqrt말고)"
      ],
      "metadata": {
        "id": "4VtkZMcHTWMe"
      }
    },
    {
      "cell_type": "markdown",
      "source": [
        "# itertools 모듈 : 순열, 조합 쉽게 구할 수 있음."
      ],
      "metadata": {
        "id": "2aemkFM2Tog6"
      }
    },
    {
      "cell_type": "code",
      "source": [
        "import itertools\n",
        "\n",
        "chars = ['A', 'B', 'C']\n",
        "\n",
        "p = itertools.permutations(chars, 2)  # 순열\n",
        "c = itertools.combinations(chars, 2)  # 조합\n",
        "\n",
        "print(list(p))\n",
        "print(list(c))"
      ],
      "metadata": {
        "colab": {
          "base_uri": "https://localhost:8080/"
        },
        "id": "5xyzGBr0Tv9Y",
        "outputId": "2825cd21-1b0d-4f77-a62d-7a690c92066c"
      },
      "execution_count": 1,
      "outputs": [
        {
          "output_type": "stream",
          "name": "stdout",
          "text": [
            "[('A', 'B'), ('A', 'C'), ('B', 'A'), ('B', 'C'), ('C', 'A'), ('C', 'B')]\n",
            "[('A', 'B'), ('A', 'C'), ('B', 'C')]\n"
          ]
        }
      ]
    }
  ]
}
