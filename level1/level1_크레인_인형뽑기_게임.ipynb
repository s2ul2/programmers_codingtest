{
  "nbformat": 4,
  "nbformat_minor": 0,
  "metadata": {
    "colab": {
      "name": "level1_크레인 인형뽑기 게임.ipynb",
      "provenance": [],
      "authorship_tag": "ABX9TyPpoy7mihrxTDiTeUUJlzGm",
      "include_colab_link": true
    },
    "kernelspec": {
      "name": "python3",
      "display_name": "Python 3"
    },
    "language_info": {
      "name": "python"
    },
    "gpuClass": "standard"
  },
  "cells": [
    {
      "cell_type": "markdown",
      "metadata": {
        "id": "view-in-github",
        "colab_type": "text"
      },
      "source": [
        "<a href=\"https://colab.research.google.com/github/s2ul2/programmers_codingtest/blob/main/level1_%ED%81%AC%EB%A0%88%EC%9D%B8_%EC%9D%B8%ED%98%95%EB%BD%91%EA%B8%B0_%EA%B2%8C%EC%9E%84.ipynb\" target=\"_parent\"><img src=\"https://colab.research.google.com/assets/colab-badge.svg\" alt=\"Open In Colab\"/></a>"
      ]
    },
    {
      "cell_type": "markdown",
      "source": [
        "# 나의 풀이 (100점, 29분 57초)"
      ],
      "metadata": {
        "id": "MFk3MSaQTRYF"
      }
    },
    {
      "cell_type": "code",
      "execution_count": null,
      "metadata": {
        "id": "qffbPxHhKO9J"
      },
      "outputs": [],
      "source": [
        "def solution(board, moves):\n",
        "    answer = 0\n",
        "    doll_stack = []\n",
        "    for j in moves:\n",
        "        for row in board: # row : 하나의 행\n",
        "            if row[j-1] != 0:\n",
        "                doll = row[j-1] # row의 j-1번째 인형 뽑기\n",
        "                row[j-1] = 0 # 인형을 뽑았으니 0으로 바꾼다.\n",
        "                if len(doll_stack) >= 1: # doll_stack에 1개 이상의 인형이 있는경우\n",
        "                    if doll_stack[-1] == doll: # stack에 담긴 마지막 doll과 지금 뽑은 doll이 같은경우\n",
        "                        doll_stack.pop()        # stack에 마지막 doll 제거\n",
        "                        answer += 2\n",
        "                    else:                       # stack에 담긴 마지막 doll과 지금 뽑은 doll이 다른경우 --> stack에 추가\n",
        "                        doll_stack.append(doll)\n",
        "                else: # doll_stack에 인형이 없는경우 doll 추가\n",
        "                    doll_stack.append(doll)\n",
        "\n",
        "                break # 두번째 for문 break\n",
        "\n",
        "\n",
        "    return answer"
      ]
    },
    {
      "cell_type": "markdown",
      "source": [
        "# 다른사람 풀이"
      ],
      "metadata": {
        "id": "usfMmzY-TMA4"
      }
    },
    {
      "cell_type": "code",
      "source": [
        "def solution(board, moves):\n",
        "    stacklist = []\n",
        "    answer = 0\n",
        "\n",
        "    for i in moves:\n",
        "        for j in range(len(board)):\n",
        "            if board[j][i-1] != 0:\n",
        "                stacklist.append(board[j][i-1])\n",
        "                board[j][i-1] = 0\n",
        "\n",
        "                if len(stacklist) > 1:\n",
        "                    if stacklist[-1] == stacklist[-2]:\n",
        "                        stacklist.pop(-1)\n",
        "                        stacklist.pop(-1)\n",
        "                        answer += 2     \n",
        "                break\n",
        "\n",
        "    return answer"
      ],
      "metadata": {
        "id": "74qa5SLDTNXt"
      },
      "execution_count": null,
      "outputs": []
    }
  ]
}
