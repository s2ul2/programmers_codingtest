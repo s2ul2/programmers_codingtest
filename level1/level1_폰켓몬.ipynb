{
  "nbformat": 4,
  "nbformat_minor": 0,
  "metadata": {
    "colab": {
      "name": "level1_폰켓몬.ipynb",
      "provenance": [],
      "collapsed_sections": [],
      "authorship_tag": "ABX9TyPn27TVFYdWujBgzQixYKnk",
      "include_colab_link": true
    },
    "kernelspec": {
      "name": "python3",
      "display_name": "Python 3"
    },
    "language_info": {
      "name": "python"
    },
    "gpuClass": "standard"
  },
  "cells": [
    {
      "cell_type": "markdown",
      "metadata": {
        "id": "view-in-github",
        "colab_type": "text"
      },
      "source": [
        "<a href=\"https://colab.research.google.com/github/s2ul2/programmers_codingtest/blob/main/level1_%ED%8F%B0%EC%BC%93%EB%AA%AC.ipynb\" target=\"_parent\"><img src=\"https://colab.research.google.com/assets/colab-badge.svg\" alt=\"Open In Colab\"/></a>"
      ]
    },
    {
      "cell_type": "markdown",
      "source": [
        "# 나의 풀이:100점(10분30초)"
      ],
      "metadata": {
        "id": "386v7QasUP9x"
      }
    },
    {
      "cell_type": "code",
      "execution_count": null,
      "metadata": {
        "id": "JKzANH0dUL--"
      },
      "outputs": [],
      "source": [
        "def solution(nums):\n",
        "    poketmon_type = list(set(nums))\n",
        "    if (len(nums) / 2) > len(poketmon_type):\n",
        "        return len(poketmon_type)\n",
        "    else:\n",
        "        return len(nums) / 2"
      ]
    },
    {
      "cell_type": "markdown",
      "source": [
        "* list는 굳이 쓸필요 없다.\n",
        "* min!!!!!!!!!!!!!!!!!!!"
      ],
      "metadata": {
        "id": "sQEYCteJaAMr"
      }
    },
    {
      "cell_type": "markdown",
      "source": [
        "# 다른사람 풀이"
      ],
      "metadata": {
        "id": "mnoAIWA2UTZR"
      }
    },
    {
      "cell_type": "code",
      "source": [
        "def solution(ls):\n",
        "    return min(len(ls)/2, len(set(ls)))"
      ],
      "metadata": {
        "id": "HUAVcXoJZyl5"
      },
      "execution_count": null,
      "outputs": []
    }
  ]
}
