{
  "nbformat": 4,
  "nbformat_minor": 0,
  "metadata": {
    "colab": {
      "name": "level1_숫자 문자열과 영단어.ipynb",
      "provenance": [],
      "collapsed_sections": [],
      "authorship_tag": "ABX9TyNET4KgTbfBMEqUmVZaMRIr",
      "include_colab_link": true
    },
    "kernelspec": {
      "name": "python3",
      "display_name": "Python 3"
    },
    "language_info": {
      "name": "python"
    },
    "gpuClass": "standard"
  },
  "cells": [
    {
      "cell_type": "markdown",
      "metadata": {
        "id": "view-in-github",
        "colab_type": "text"
      },
      "source": [
        "<a href=\"https://colab.research.google.com/github/s2ul2/programmers_codingtest/blob/main/level1_%EC%88%AB%EC%9E%90_%EB%AC%B8%EC%9E%90%EC%97%B4%EA%B3%BC_%EC%98%81%EB%8B%A8%EC%96%B4.ipynb\" target=\"_parent\"><img src=\"https://colab.research.google.com/assets/colab-badge.svg\" alt=\"Open In Colab\"/></a>"
      ]
    },
    {
      "cell_type": "markdown",
      "source": [
        "# 나의 풀이 : 100점(18분)"
      ],
      "metadata": {
        "id": "kpXylXx27ZJX"
      }
    },
    {
      "cell_type": "code",
      "execution_count": 9,
      "metadata": {
        "id": "u94wt6u95aB8"
      },
      "outputs": [],
      "source": [
        "def solution(s):\n",
        "    str_to_num = {'zero' : 0, 'one' : 1, 'two' : 2, 'three' : 3, 'four' : 4, 'five' : 5, 'six' : 6, 'seven' : 7, 'eight' : 8, 'nine' : 9, 'ten' : 10}\n",
        "\n",
        "    str_lst = list(str_to_num.keys())\n",
        "    for num in str_lst: # num : 문자열 숫자\n",
        "        if num in s:\n",
        "            s = s.replace(num, str(str_to_num[num]))\n",
        "\n",
        "    answer = int(s)\n",
        "    return answer"
      ]
    },
    {
      "cell_type": "markdown",
      "source": [
        "* 문자열에 특정 문자열이 존재 안할 경우 replace를 쓰면 오류나는 줄 알았는데 오류가 안나는군. 결국 굳이 if를 안써도 된다.\n"
      ],
      "metadata": {
        "id": "Bfilf16i8DCR"
      }
    },
    {
      "cell_type": "markdown",
      "source": [
        "# 다른사람 풀이"
      ],
      "metadata": {
        "id": "ISuSVzBT7s4z"
      }
    },
    {
      "cell_type": "code",
      "source": [
        "num_dic = {\"zero\":\"0\", \"one\":\"1\", \"two\":\"2\", \"three\":\"3\", \"four\":\"4\", \"five\":\"5\", \"six\":\"6\", \"seven\":\"7\", \"eight\":\"8\", \"nine\":\"9\"}\n",
        "\n",
        "def solution(s):\n",
        "    answer = s\n",
        "    for key, value in num_dic.items():\n",
        "        answer = answer.replace(key, value)\n",
        "    return int(answer)"
      ],
      "metadata": {
        "id": "TEUoDMRW7cOR"
      },
      "execution_count": null,
      "outputs": []
    }
  ]
}
